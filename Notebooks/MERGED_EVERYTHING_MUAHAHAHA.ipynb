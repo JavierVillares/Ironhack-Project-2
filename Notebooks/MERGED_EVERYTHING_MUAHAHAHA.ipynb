{
 "cells": [
  {
   "cell_type": "code",
   "execution_count": 17,
   "metadata": {},
   "outputs": [],
   "source": [
    "import pandas as pd\n",
    "from scipy.stats import ttest_ind"
   ]
  },
  {
   "cell_type": "code",
   "execution_count": 2,
   "metadata": {},
   "outputs": [],
   "source": [
    "\n",
    "\n",
    "url1 = ('/Users/javi/Desktop/Ironhack/Entregas de github/Ironhack-Project-2/Raw data/df_final_demo_cleaned.csv')\n",
    "url2 = ('/Users/javi/Desktop/Ironhack/Entregas de github/Ironhack-Project-2/Raw data/df_merged_sorted.csv')\n",
    "\n",
    "df1 = pd.read_csv(url1)\n",
    "df2 = pd.read_csv(url2)"
   ]
  },
  {
   "cell_type": "code",
   "execution_count": 3,
   "metadata": {},
   "outputs": [
    {
     "data": {
      "text/plain": [
       "(70595, 9)"
      ]
     },
     "execution_count": 3,
     "metadata": {},
     "output_type": "execute_result"
    }
   ],
   "source": [
    "df1.shape"
   ]
  },
  {
   "cell_type": "code",
   "execution_count": 4,
   "metadata": {},
   "outputs": [
    {
     "data": {
      "text/html": [
       "<div>\n",
       "<style scoped>\n",
       "    .dataframe tbody tr th:only-of-type {\n",
       "        vertical-align: middle;\n",
       "    }\n",
       "\n",
       "    .dataframe tbody tr th {\n",
       "        vertical-align: top;\n",
       "    }\n",
       "\n",
       "    .dataframe thead th {\n",
       "        text-align: right;\n",
       "    }\n",
       "</style>\n",
       "<table border=\"1\" class=\"dataframe\">\n",
       "  <thead>\n",
       "    <tr style=\"text-align: right;\">\n",
       "      <th></th>\n",
       "      <th>client_id</th>\n",
       "      <th>years_as_client</th>\n",
       "      <th>months_as_client</th>\n",
       "      <th>age</th>\n",
       "      <th>gender</th>\n",
       "      <th>number_of_accounts</th>\n",
       "      <th>total_balance</th>\n",
       "      <th>calls_in_the_last_6_months</th>\n",
       "      <th>frequency_of_logons_6_months</th>\n",
       "    </tr>\n",
       "  </thead>\n",
       "  <tbody>\n",
       "    <tr>\n",
       "      <th>0</th>\n",
       "      <td>836976</td>\n",
       "      <td>6.0</td>\n",
       "      <td>73.0</td>\n",
       "      <td>60.5</td>\n",
       "      <td>U</td>\n",
       "      <td>2.0</td>\n",
       "      <td>45105.30</td>\n",
       "      <td>6.0</td>\n",
       "      <td>9.0</td>\n",
       "    </tr>\n",
       "    <tr>\n",
       "      <th>1</th>\n",
       "      <td>2304905</td>\n",
       "      <td>7.0</td>\n",
       "      <td>94.0</td>\n",
       "      <td>58.0</td>\n",
       "      <td>U</td>\n",
       "      <td>2.0</td>\n",
       "      <td>110860.30</td>\n",
       "      <td>6.0</td>\n",
       "      <td>9.0</td>\n",
       "    </tr>\n",
       "    <tr>\n",
       "      <th>2</th>\n",
       "      <td>1439522</td>\n",
       "      <td>5.0</td>\n",
       "      <td>64.0</td>\n",
       "      <td>32.0</td>\n",
       "      <td>U</td>\n",
       "      <td>2.0</td>\n",
       "      <td>52467.79</td>\n",
       "      <td>6.0</td>\n",
       "      <td>9.0</td>\n",
       "    </tr>\n",
       "    <tr>\n",
       "      <th>3</th>\n",
       "      <td>1562045</td>\n",
       "      <td>16.0</td>\n",
       "      <td>198.0</td>\n",
       "      <td>49.0</td>\n",
       "      <td>M</td>\n",
       "      <td>2.0</td>\n",
       "      <td>67454.65</td>\n",
       "      <td>3.0</td>\n",
       "      <td>6.0</td>\n",
       "    </tr>\n",
       "    <tr>\n",
       "      <th>4</th>\n",
       "      <td>5126305</td>\n",
       "      <td>12.0</td>\n",
       "      <td>145.0</td>\n",
       "      <td>33.0</td>\n",
       "      <td>F</td>\n",
       "      <td>2.0</td>\n",
       "      <td>103671.75</td>\n",
       "      <td>0.0</td>\n",
       "      <td>3.0</td>\n",
       "    </tr>\n",
       "  </tbody>\n",
       "</table>\n",
       "</div>"
      ],
      "text/plain": [
       "   client_id  years_as_client  months_as_client   age gender  \\\n",
       "0     836976              6.0              73.0  60.5      U   \n",
       "1    2304905              7.0              94.0  58.0      U   \n",
       "2    1439522              5.0              64.0  32.0      U   \n",
       "3    1562045             16.0             198.0  49.0      M   \n",
       "4    5126305             12.0             145.0  33.0      F   \n",
       "\n",
       "   number_of_accounts  total_balance  calls_in_the_last_6_months  \\\n",
       "0                 2.0       45105.30                         6.0   \n",
       "1                 2.0      110860.30                         6.0   \n",
       "2                 2.0       52467.79                         6.0   \n",
       "3                 2.0       67454.65                         3.0   \n",
       "4                 2.0      103671.75                         0.0   \n",
       "\n",
       "   frequency_of_logons_6_months  \n",
       "0                           9.0  \n",
       "1                           9.0  \n",
       "2                           9.0  \n",
       "3                           6.0  \n",
       "4                           3.0  "
      ]
     },
     "execution_count": 4,
     "metadata": {},
     "output_type": "execute_result"
    }
   ],
   "source": [
    "df1.head()"
   ]
  },
  {
   "cell_type": "code",
   "execution_count": 5,
   "metadata": {},
   "outputs": [
    {
     "name": "stdout",
     "output_type": "stream",
     "text": [
      "<class 'pandas.core.frame.DataFrame'>\n",
      "RangeIndex: 70595 entries, 0 to 70594\n",
      "Data columns (total 9 columns):\n",
      " #   Column                        Non-Null Count  Dtype  \n",
      "---  ------                        --------------  -----  \n",
      " 0   client_id                     70595 non-null  int64  \n",
      " 1   years_as_client               70595 non-null  float64\n",
      " 2   months_as_client              70595 non-null  float64\n",
      " 3   age                           70595 non-null  float64\n",
      " 4   gender                        70595 non-null  object \n",
      " 5   number_of_accounts            70595 non-null  float64\n",
      " 6   total_balance                 70595 non-null  float64\n",
      " 7   calls_in_the_last_6_months    70595 non-null  float64\n",
      " 8   frequency_of_logons_6_months  70595 non-null  float64\n",
      "dtypes: float64(7), int64(1), object(1)\n",
      "memory usage: 4.8+ MB\n"
     ]
    }
   ],
   "source": [
    "df1.info()"
   ]
  },
  {
   "cell_type": "code",
   "execution_count": 6,
   "metadata": {},
   "outputs": [
    {
     "data": {
      "text/plain": [
       "(321309, 7)"
      ]
     },
     "execution_count": 6,
     "metadata": {},
     "output_type": "execute_result"
    }
   ],
   "source": [
    "df2.shape"
   ]
  },
  {
   "cell_type": "code",
   "execution_count": 7,
   "metadata": {},
   "outputs": [],
   "source": [
    "merged_df = pd.merge(df1, df2, on='client_id', how='outer')"
   ]
  },
  {
   "cell_type": "code",
   "execution_count": 8,
   "metadata": {},
   "outputs": [
    {
     "data": {
      "text/plain": [
       "(341416, 15)"
      ]
     },
     "execution_count": 8,
     "metadata": {},
     "output_type": "execute_result"
    }
   ],
   "source": [
    "merged_df.shape"
   ]
  },
  {
   "cell_type": "code",
   "execution_count": 9,
   "metadata": {},
   "outputs": [
    {
     "name": "stdout",
     "output_type": "stream",
     "text": [
      "<class 'pandas.core.frame.DataFrame'>\n",
      "RangeIndex: 341416 entries, 0 to 341415\n",
      "Data columns (total 15 columns):\n",
      " #   Column                        Non-Null Count   Dtype  \n",
      "---  ------                        --------------   -----  \n",
      " 0   client_id                     341416 non-null  int64  \n",
      " 1   years_as_client               341314 non-null  float64\n",
      " 2   months_as_client              341314 non-null  float64\n",
      " 3   age                           341314 non-null  float64\n",
      " 4   gender                        341314 non-null  object \n",
      " 5   number_of_accounts            341314 non-null  float64\n",
      " 6   total_balance                 341314 non-null  float64\n",
      " 7   calls_in_the_last_6_months    341314 non-null  float64\n",
      " 8   frequency_of_logons_6_months  341314 non-null  float64\n",
      " 9   visitor_id                    321309 non-null  object \n",
      " 10  visit_id                      321309 non-null  object \n",
      " 11  process_step                  321309 non-null  object \n",
      " 12  date_time                     321309 non-null  object \n",
      " 13  Variation                     321309 non-null  object \n",
      " 14  time_diff                     252104 non-null  float64\n",
      "dtypes: float64(8), int64(1), object(6)\n",
      "memory usage: 39.1+ MB\n"
     ]
    }
   ],
   "source": [
    "merged_df.info()"
   ]
  },
  {
   "cell_type": "code",
   "execution_count": 10,
   "metadata": {},
   "outputs": [],
   "source": [
    "merged_df.sort_values(by='date_time', inplace=True)\n",
    "\n",
    "# Reset the index of the sorted dataframe\n",
    "merged_df.reset_index(drop=True, inplace=True)"
   ]
  },
  {
   "cell_type": "code",
   "execution_count": 11,
   "metadata": {},
   "outputs": [
    {
     "data": {
      "text/html": [
       "<div>\n",
       "<style scoped>\n",
       "    .dataframe tbody tr th:only-of-type {\n",
       "        vertical-align: middle;\n",
       "    }\n",
       "\n",
       "    .dataframe tbody tr th {\n",
       "        vertical-align: top;\n",
       "    }\n",
       "\n",
       "    .dataframe thead th {\n",
       "        text-align: right;\n",
       "    }\n",
       "</style>\n",
       "<table border=\"1\" class=\"dataframe\">\n",
       "  <thead>\n",
       "    <tr style=\"text-align: right;\">\n",
       "      <th></th>\n",
       "      <th>client_id</th>\n",
       "      <th>years_as_client</th>\n",
       "      <th>months_as_client</th>\n",
       "      <th>age</th>\n",
       "      <th>gender</th>\n",
       "      <th>number_of_accounts</th>\n",
       "      <th>total_balance</th>\n",
       "      <th>calls_in_the_last_6_months</th>\n",
       "      <th>frequency_of_logons_6_months</th>\n",
       "      <th>visitor_id</th>\n",
       "      <th>visit_id</th>\n",
       "      <th>process_step</th>\n",
       "      <th>date_time</th>\n",
       "      <th>Variation</th>\n",
       "      <th>time_diff</th>\n",
       "    </tr>\n",
       "  </thead>\n",
       "  <tbody>\n",
       "    <tr>\n",
       "      <th>0</th>\n",
       "      <td>7179755</td>\n",
       "      <td>28.0</td>\n",
       "      <td>343.0</td>\n",
       "      <td>67.5</td>\n",
       "      <td>M</td>\n",
       "      <td>3.0</td>\n",
       "      <td>352322.35</td>\n",
       "      <td>2.0</td>\n",
       "      <td>5.0</td>\n",
       "      <td>167765295_97487764427</td>\n",
       "      <td>264484508_5982901710_928530</td>\n",
       "      <td>start</td>\n",
       "      <td>2017-03-15 00:19:28</td>\n",
       "      <td>Control</td>\n",
       "      <td>NaN</td>\n",
       "    </tr>\n",
       "    <tr>\n",
       "      <th>1</th>\n",
       "      <td>7179755</td>\n",
       "      <td>28.0</td>\n",
       "      <td>343.0</td>\n",
       "      <td>67.5</td>\n",
       "      <td>M</td>\n",
       "      <td>3.0</td>\n",
       "      <td>352322.35</td>\n",
       "      <td>2.0</td>\n",
       "      <td>5.0</td>\n",
       "      <td>167765295_97487764427</td>\n",
       "      <td>264484508_5982901710_928530</td>\n",
       "      <td>step_1</td>\n",
       "      <td>2017-03-15 00:20:50</td>\n",
       "      <td>Control</td>\n",
       "      <td>82.0</td>\n",
       "    </tr>\n",
       "    <tr>\n",
       "      <th>2</th>\n",
       "      <td>7179755</td>\n",
       "      <td>28.0</td>\n",
       "      <td>343.0</td>\n",
       "      <td>67.5</td>\n",
       "      <td>M</td>\n",
       "      <td>3.0</td>\n",
       "      <td>352322.35</td>\n",
       "      <td>2.0</td>\n",
       "      <td>5.0</td>\n",
       "      <td>167765295_97487764427</td>\n",
       "      <td>264484508_5982901710_928530</td>\n",
       "      <td>step_2</td>\n",
       "      <td>2017-03-15 00:22:52</td>\n",
       "      <td>Control</td>\n",
       "      <td>122.0</td>\n",
       "    </tr>\n",
       "    <tr>\n",
       "      <th>3</th>\n",
       "      <td>7179755</td>\n",
       "      <td>28.0</td>\n",
       "      <td>343.0</td>\n",
       "      <td>67.5</td>\n",
       "      <td>M</td>\n",
       "      <td>3.0</td>\n",
       "      <td>352322.35</td>\n",
       "      <td>2.0</td>\n",
       "      <td>5.0</td>\n",
       "      <td>167765295_97487764427</td>\n",
       "      <td>264484508_5982901710_928530</td>\n",
       "      <td>step_3</td>\n",
       "      <td>2017-03-15 00:23:47</td>\n",
       "      <td>Control</td>\n",
       "      <td>55.0</td>\n",
       "    </tr>\n",
       "    <tr>\n",
       "      <th>4</th>\n",
       "      <td>7179755</td>\n",
       "      <td>28.0</td>\n",
       "      <td>343.0</td>\n",
       "      <td>67.5</td>\n",
       "      <td>M</td>\n",
       "      <td>3.0</td>\n",
       "      <td>352322.35</td>\n",
       "      <td>2.0</td>\n",
       "      <td>5.0</td>\n",
       "      <td>167765295_97487764427</td>\n",
       "      <td>264484508_5982901710_928530</td>\n",
       "      <td>confirm</td>\n",
       "      <td>2017-03-15 00:26:24</td>\n",
       "      <td>Control</td>\n",
       "      <td>157.0</td>\n",
       "    </tr>\n",
       "  </tbody>\n",
       "</table>\n",
       "</div>"
      ],
      "text/plain": [
       "   client_id  years_as_client  months_as_client   age gender  \\\n",
       "0    7179755             28.0             343.0  67.5      M   \n",
       "1    7179755             28.0             343.0  67.5      M   \n",
       "2    7179755             28.0             343.0  67.5      M   \n",
       "3    7179755             28.0             343.0  67.5      M   \n",
       "4    7179755             28.0             343.0  67.5      M   \n",
       "\n",
       "   number_of_accounts  total_balance  calls_in_the_last_6_months  \\\n",
       "0                 3.0      352322.35                         2.0   \n",
       "1                 3.0      352322.35                         2.0   \n",
       "2                 3.0      352322.35                         2.0   \n",
       "3                 3.0      352322.35                         2.0   \n",
       "4                 3.0      352322.35                         2.0   \n",
       "\n",
       "   frequency_of_logons_6_months             visitor_id  \\\n",
       "0                           5.0  167765295_97487764427   \n",
       "1                           5.0  167765295_97487764427   \n",
       "2                           5.0  167765295_97487764427   \n",
       "3                           5.0  167765295_97487764427   \n",
       "4                           5.0  167765295_97487764427   \n",
       "\n",
       "                      visit_id process_step            date_time Variation  \\\n",
       "0  264484508_5982901710_928530        start  2017-03-15 00:19:28   Control   \n",
       "1  264484508_5982901710_928530       step_1  2017-03-15 00:20:50   Control   \n",
       "2  264484508_5982901710_928530       step_2  2017-03-15 00:22:52   Control   \n",
       "3  264484508_5982901710_928530       step_3  2017-03-15 00:23:47   Control   \n",
       "4  264484508_5982901710_928530      confirm  2017-03-15 00:26:24   Control   \n",
       "\n",
       "   time_diff  \n",
       "0        NaN  \n",
       "1       82.0  \n",
       "2      122.0  \n",
       "3       55.0  \n",
       "4      157.0  "
      ]
     },
     "execution_count": 11,
     "metadata": {},
     "output_type": "execute_result"
    }
   ],
   "source": [
    "merged_df.head()"
   ]
  },
  {
   "cell_type": "code",
   "execution_count": 12,
   "metadata": {},
   "outputs": [],
   "source": [
    "merged_df.to_csv('/Users/javi/Desktop/Ironhack/Entregas de github/Ironhack-Project-2/Raw data/EVERYTHING_MERGED.csv',index=False,encoding='latin-1')"
   ]
  },
  {
   "cell_type": "code",
   "execution_count": 13,
   "metadata": {},
   "outputs": [
    {
     "name": "stderr",
     "output_type": "stream",
     "text": [
      "/var/folders/23/ykjhg9v57tn3wfmhgxtgj1s80000gn/T/ipykernel_33162/1560098399.py:2: DtypeWarning: Columns (9,10,11,12,13) have mixed types. Specify dtype option on import or set low_memory=False.\n",
      "  df = pd.read_csv(url)\n"
     ]
    }
   ],
   "source": [
    "url = ('/Users/javi/Desktop/Ironhack/Entregas de github/Ironhack-Project-2/Raw data/EVERYTHING_MERGED.csv')\n",
    "df = pd.read_csv(url)"
   ]
  },
  {
   "cell_type": "code",
   "execution_count": 14,
   "metadata": {},
   "outputs": [
    {
     "data": {
      "text/html": [
       "<div>\n",
       "<style scoped>\n",
       "    .dataframe tbody tr th:only-of-type {\n",
       "        vertical-align: middle;\n",
       "    }\n",
       "\n",
       "    .dataframe tbody tr th {\n",
       "        vertical-align: top;\n",
       "    }\n",
       "\n",
       "    .dataframe thead th {\n",
       "        text-align: right;\n",
       "    }\n",
       "</style>\n",
       "<table border=\"1\" class=\"dataframe\">\n",
       "  <thead>\n",
       "    <tr style=\"text-align: right;\">\n",
       "      <th></th>\n",
       "      <th>client_id</th>\n",
       "      <th>years_as_client</th>\n",
       "      <th>months_as_client</th>\n",
       "      <th>age</th>\n",
       "      <th>gender</th>\n",
       "      <th>number_of_accounts</th>\n",
       "      <th>total_balance</th>\n",
       "      <th>calls_in_the_last_6_months</th>\n",
       "      <th>frequency_of_logons_6_months</th>\n",
       "      <th>visitor_id</th>\n",
       "      <th>visit_id</th>\n",
       "      <th>process_step</th>\n",
       "      <th>date_time</th>\n",
       "      <th>Variation</th>\n",
       "      <th>time_diff</th>\n",
       "    </tr>\n",
       "  </thead>\n",
       "  <tbody>\n",
       "    <tr>\n",
       "      <th>0</th>\n",
       "      <td>7179755</td>\n",
       "      <td>28.0</td>\n",
       "      <td>343.0</td>\n",
       "      <td>67.5</td>\n",
       "      <td>M</td>\n",
       "      <td>3.0</td>\n",
       "      <td>352322.35</td>\n",
       "      <td>2.0</td>\n",
       "      <td>5.0</td>\n",
       "      <td>167765295_97487764427</td>\n",
       "      <td>264484508_5982901710_928530</td>\n",
       "      <td>start</td>\n",
       "      <td>2017-03-15 00:19:28</td>\n",
       "      <td>Control</td>\n",
       "      <td>NaN</td>\n",
       "    </tr>\n",
       "    <tr>\n",
       "      <th>1</th>\n",
       "      <td>7179755</td>\n",
       "      <td>28.0</td>\n",
       "      <td>343.0</td>\n",
       "      <td>67.5</td>\n",
       "      <td>M</td>\n",
       "      <td>3.0</td>\n",
       "      <td>352322.35</td>\n",
       "      <td>2.0</td>\n",
       "      <td>5.0</td>\n",
       "      <td>167765295_97487764427</td>\n",
       "      <td>264484508_5982901710_928530</td>\n",
       "      <td>step_1</td>\n",
       "      <td>2017-03-15 00:20:50</td>\n",
       "      <td>Control</td>\n",
       "      <td>82.0</td>\n",
       "    </tr>\n",
       "    <tr>\n",
       "      <th>2</th>\n",
       "      <td>7179755</td>\n",
       "      <td>28.0</td>\n",
       "      <td>343.0</td>\n",
       "      <td>67.5</td>\n",
       "      <td>M</td>\n",
       "      <td>3.0</td>\n",
       "      <td>352322.35</td>\n",
       "      <td>2.0</td>\n",
       "      <td>5.0</td>\n",
       "      <td>167765295_97487764427</td>\n",
       "      <td>264484508_5982901710_928530</td>\n",
       "      <td>step_2</td>\n",
       "      <td>2017-03-15 00:22:52</td>\n",
       "      <td>Control</td>\n",
       "      <td>122.0</td>\n",
       "    </tr>\n",
       "    <tr>\n",
       "      <th>3</th>\n",
       "      <td>7179755</td>\n",
       "      <td>28.0</td>\n",
       "      <td>343.0</td>\n",
       "      <td>67.5</td>\n",
       "      <td>M</td>\n",
       "      <td>3.0</td>\n",
       "      <td>352322.35</td>\n",
       "      <td>2.0</td>\n",
       "      <td>5.0</td>\n",
       "      <td>167765295_97487764427</td>\n",
       "      <td>264484508_5982901710_928530</td>\n",
       "      <td>step_3</td>\n",
       "      <td>2017-03-15 00:23:47</td>\n",
       "      <td>Control</td>\n",
       "      <td>55.0</td>\n",
       "    </tr>\n",
       "    <tr>\n",
       "      <th>4</th>\n",
       "      <td>7179755</td>\n",
       "      <td>28.0</td>\n",
       "      <td>343.0</td>\n",
       "      <td>67.5</td>\n",
       "      <td>M</td>\n",
       "      <td>3.0</td>\n",
       "      <td>352322.35</td>\n",
       "      <td>2.0</td>\n",
       "      <td>5.0</td>\n",
       "      <td>167765295_97487764427</td>\n",
       "      <td>264484508_5982901710_928530</td>\n",
       "      <td>confirm</td>\n",
       "      <td>2017-03-15 00:26:24</td>\n",
       "      <td>Control</td>\n",
       "      <td>157.0</td>\n",
       "    </tr>\n",
       "  </tbody>\n",
       "</table>\n",
       "</div>"
      ],
      "text/plain": [
       "   client_id  years_as_client  months_as_client   age gender  \\\n",
       "0    7179755             28.0             343.0  67.5      M   \n",
       "1    7179755             28.0             343.0  67.5      M   \n",
       "2    7179755             28.0             343.0  67.5      M   \n",
       "3    7179755             28.0             343.0  67.5      M   \n",
       "4    7179755             28.0             343.0  67.5      M   \n",
       "\n",
       "   number_of_accounts  total_balance  calls_in_the_last_6_months  \\\n",
       "0                 3.0      352322.35                         2.0   \n",
       "1                 3.0      352322.35                         2.0   \n",
       "2                 3.0      352322.35                         2.0   \n",
       "3                 3.0      352322.35                         2.0   \n",
       "4                 3.0      352322.35                         2.0   \n",
       "\n",
       "   frequency_of_logons_6_months             visitor_id  \\\n",
       "0                           5.0  167765295_97487764427   \n",
       "1                           5.0  167765295_97487764427   \n",
       "2                           5.0  167765295_97487764427   \n",
       "3                           5.0  167765295_97487764427   \n",
       "4                           5.0  167765295_97487764427   \n",
       "\n",
       "                      visit_id process_step            date_time Variation  \\\n",
       "0  264484508_5982901710_928530        start  2017-03-15 00:19:28   Control   \n",
       "1  264484508_5982901710_928530       step_1  2017-03-15 00:20:50   Control   \n",
       "2  264484508_5982901710_928530       step_2  2017-03-15 00:22:52   Control   \n",
       "3  264484508_5982901710_928530       step_3  2017-03-15 00:23:47   Control   \n",
       "4  264484508_5982901710_928530      confirm  2017-03-15 00:26:24   Control   \n",
       "\n",
       "   time_diff  \n",
       "0        NaN  \n",
       "1       82.0  \n",
       "2      122.0  \n",
       "3       55.0  \n",
       "4      157.0  "
      ]
     },
     "execution_count": 14,
     "metadata": {},
     "output_type": "execute_result"
    }
   ],
   "source": [
    "df.head()"
   ]
  },
  {
   "cell_type": "code",
   "execution_count": 15,
   "metadata": {},
   "outputs": [
    {
     "name": "stdout",
     "output_type": "stream",
     "text": [
      "<class 'pandas.core.frame.DataFrame'>\n",
      "RangeIndex: 341416 entries, 0 to 341415\n",
      "Data columns (total 15 columns):\n",
      " #   Column                        Non-Null Count   Dtype  \n",
      "---  ------                        --------------   -----  \n",
      " 0   client_id                     341416 non-null  int64  \n",
      " 1   years_as_client               341314 non-null  float64\n",
      " 2   months_as_client              341314 non-null  float64\n",
      " 3   age                           341314 non-null  float64\n",
      " 4   gender                        341314 non-null  object \n",
      " 5   number_of_accounts            341314 non-null  float64\n",
      " 6   total_balance                 341314 non-null  float64\n",
      " 7   calls_in_the_last_6_months    341314 non-null  float64\n",
      " 8   frequency_of_logons_6_months  341314 non-null  float64\n",
      " 9   visitor_id                    321309 non-null  object \n",
      " 10  visit_id                      321309 non-null  object \n",
      " 11  process_step                  321309 non-null  object \n",
      " 12  date_time                     321309 non-null  object \n",
      " 13  Variation                     321309 non-null  object \n",
      " 14  time_diff                     252104 non-null  float64\n",
      "dtypes: float64(8), int64(1), object(6)\n",
      "memory usage: 39.1+ MB\n"
     ]
    }
   ],
   "source": [
    "df.info()"
   ]
  },
  {
   "cell_type": "code",
   "execution_count": 20,
   "metadata": {},
   "outputs": [
    {
     "name": "stdout",
     "output_type": "stream",
     "text": [
      "T-statistic for Age: nan\n",
      "P-value for Age: nan\n"
     ]
    }
   ],
   "source": [
    "from scipy.stats import ttest_ind\n",
    "\n",
    "# Filter data for Control and Test variations\n",
    "control_age = df[df['Variation'] == 'Control']['age']\n",
    "test_age = df[df['Variation'] == 'Test']['age']\n",
    "\n",
    "# Perform t-test for age\n",
    "t_statistic, p_value = ttest_ind(control_age, test_age, equal_var=False)\n",
    "\n",
    "# Print the results\n",
    "print(\"T-statistic for Age:\", t_statistic)\n",
    "print(\"P-value for Age:\", p_value)\n"
   ]
  },
  {
   "cell_type": "code",
   "execution_count": 21,
   "metadata": {},
   "outputs": [
    {
     "name": "stdout",
     "output_type": "stream",
     "text": [
      "Missing values in age column for Control variation: 42\n",
      "Missing values in age column for Test variation: 60\n",
      "Non-numeric values in age column for Control variation: []\n",
      "Non-numeric values in age column for Test variation: []\n"
     ]
    }
   ],
   "source": [
    "# Check for missing values in age column for Control variation\n",
    "print(\"Missing values in age column for Control variation:\", control_age.isnull().sum())\n",
    "\n",
    "# Check for missing values in age column for Test variation\n",
    "print(\"Missing values in age column for Test variation:\", test_age.isnull().sum())\n",
    "\n",
    "# Check for non-numeric values in age column for Control variation\n",
    "print(\"Non-numeric values in age column for Control variation:\", control_age[~control_age.apply(lambda x: isinstance(x, (int, float)))].unique())\n",
    "\n",
    "# Check for non-numeric values in age column for Test variation\n",
    "print(\"Non-numeric values in age column for Test variation:\", test_age[~test_age.apply(lambda x: isinstance(x, (int, float)))].unique())\n"
   ]
  },
  {
   "cell_type": "code",
   "execution_count": 22,
   "metadata": {},
   "outputs": [
    {
     "name": "stdout",
     "output_type": "stream",
     "text": [
      "T-statistic for Age (after removing missing values): -7.931534613856431\n",
      "P-value for Age (after removing missing values): 2.171742993792986e-15\n"
     ]
    }
   ],
   "source": [
    "# Remove rows with missing values for age column\n",
    "clean_control_age = control_age.dropna()\n",
    "clean_test_age = test_age.dropna()\n",
    "\n",
    "# Perform t-test for age with cleaned data\n",
    "t_statistic, p_value = ttest_ind(clean_control_age, clean_test_age, equal_var=False)\n",
    "\n",
    "# Print the results\n",
    "print(\"T-statistic for Age (after removing missing values):\", t_statistic)\n",
    "print(\"P-value for Age (after removing missing values):\", p_value)\n"
   ]
  },
  {
   "cell_type": "code",
   "execution_count": 23,
   "metadata": {},
   "outputs": [
    {
     "name": "stdout",
     "output_type": "stream",
     "text": [
      "T-statistic for Age: nan\n",
      "P-value for Age: nan\n"
     ]
    }
   ],
   "source": [
    "from scipy.stats import ttest_ind\n",
    "\n",
    "# Filter data for Control and Test variations\n",
    "control_age = df[df['Variation'] == 'Control']['age']\n",
    "test_age = df[df['Variation'] == 'Test']['age']\n",
    "\n",
    "# Perform t-test for age\n",
    "t_statistic, p_value = ttest_ind(control_age, test_age, equal_var=False)\n",
    "\n",
    "# Print the results\n",
    "print(\"T-statistic for Age:\", t_statistic)\n",
    "print(\"P-value for Age:\", p_value)\n"
   ]
  }
 ],
 "metadata": {
  "kernelspec": {
   "display_name": "Python 3",
   "language": "python",
   "name": "python3"
  },
  "language_info": {
   "codemirror_mode": {
    "name": "ipython",
    "version": 3
   },
   "file_extension": ".py",
   "mimetype": "text/x-python",
   "name": "python",
   "nbconvert_exporter": "python",
   "pygments_lexer": "ipython3",
   "version": "3.9.6"
  }
 },
 "nbformat": 4,
 "nbformat_minor": 2
}
