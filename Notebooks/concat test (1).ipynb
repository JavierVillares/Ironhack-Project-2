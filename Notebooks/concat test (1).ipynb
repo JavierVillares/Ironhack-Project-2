{
 "cells": [
  {
   "cell_type": "code",
   "execution_count": 1,
   "metadata": {},
   "outputs": [],
   "source": [
    "import pandas as pd\n",
    "import matplotlib.pyplot as plt\n",
    "import seaborn as sns\n",
    "import numpy as np\n",
    "\n",
    "%matplotlib inline"
   ]
  },
  {
   "cell_type": "code",
   "execution_count": 2,
   "metadata": {},
   "outputs": [],
   "source": [
    "url1 = ('/Users/javi/Desktop/Ironhack/Entregas de github/Ironhack-Project-2/Raw data/df_final_demo_cleaned.csv')\n",
    "url2 = ('/Users/javi/Desktop/Ironhack/Entregas de github/Ironhack-Project-2/Raw data/df_final_experiment_clients_cleaned.csv')\n",
    "url3 = ('/Users/javi/Desktop/Ironhack/Entregas de github/Ironhack-Project-2/Raw data/df_final_web_concat.csv')\n",
    "df_demo = pd.read_csv(url1)\n",
    "df_test_control = pd.read_csv(url2)\n",
    "df_concat = pd.read_csv(url3)"
   ]
  },
  {
   "cell_type": "code",
   "execution_count": 3,
   "metadata": {},
   "outputs": [
    {
     "data": {
      "text/html": [
       "<div>\n",
       "<style scoped>\n",
       "    .dataframe tbody tr th:only-of-type {\n",
       "        vertical-align: middle;\n",
       "    }\n",
       "\n",
       "    .dataframe tbody tr th {\n",
       "        vertical-align: top;\n",
       "    }\n",
       "\n",
       "    .dataframe thead th {\n",
       "        text-align: right;\n",
       "    }\n",
       "</style>\n",
       "<table border=\"1\" class=\"dataframe\">\n",
       "  <thead>\n",
       "    <tr style=\"text-align: right;\">\n",
       "      <th></th>\n",
       "      <th>client_id</th>\n",
       "      <th>visitor_id</th>\n",
       "      <th>visit_id</th>\n",
       "      <th>process_step</th>\n",
       "      <th>date_time</th>\n",
       "    </tr>\n",
       "  </thead>\n",
       "  <tbody>\n",
       "    <tr>\n",
       "      <th>0</th>\n",
       "      <td>9088444</td>\n",
       "      <td>242404224_96732670250</td>\n",
       "      <td>423038079_46067236368_400417</td>\n",
       "      <td>step_3</td>\n",
       "      <td>2017-03-15 00:03:03</td>\n",
       "    </tr>\n",
       "    <tr>\n",
       "      <th>1</th>\n",
       "      <td>7179755</td>\n",
       "      <td>167765295_97487764427</td>\n",
       "      <td>264484508_5982901710_928530</td>\n",
       "      <td>start</td>\n",
       "      <td>2017-03-15 00:19:28</td>\n",
       "    </tr>\n",
       "    <tr>\n",
       "      <th>2</th>\n",
       "      <td>7179755</td>\n",
       "      <td>167765295_97487764427</td>\n",
       "      <td>264484508_5982901710_928530</td>\n",
       "      <td>step_1</td>\n",
       "      <td>2017-03-15 00:20:50</td>\n",
       "    </tr>\n",
       "    <tr>\n",
       "      <th>3</th>\n",
       "      <td>7179755</td>\n",
       "      <td>167765295_97487764427</td>\n",
       "      <td>264484508_5982901710_928530</td>\n",
       "      <td>step_2</td>\n",
       "      <td>2017-03-15 00:22:52</td>\n",
       "    </tr>\n",
       "    <tr>\n",
       "      <th>4</th>\n",
       "      <td>7179755</td>\n",
       "      <td>167765295_97487764427</td>\n",
       "      <td>264484508_5982901710_928530</td>\n",
       "      <td>step_3</td>\n",
       "      <td>2017-03-15 00:23:47</td>\n",
       "    </tr>\n",
       "    <tr>\n",
       "      <th>5</th>\n",
       "      <td>7179755</td>\n",
       "      <td>167765295_97487764427</td>\n",
       "      <td>264484508_5982901710_928530</td>\n",
       "      <td>confirm</td>\n",
       "      <td>2017-03-15 00:26:24</td>\n",
       "    </tr>\n",
       "    <tr>\n",
       "      <th>6</th>\n",
       "      <td>4192640</td>\n",
       "      <td>692067844_75217592829</td>\n",
       "      <td>706721307_85347845958_18583</td>\n",
       "      <td>start</td>\n",
       "      <td>2017-03-15 00:43:23</td>\n",
       "    </tr>\n",
       "    <tr>\n",
       "      <th>7</th>\n",
       "      <td>4192640</td>\n",
       "      <td>692067844_75217592829</td>\n",
       "      <td>706721307_85347845958_18583</td>\n",
       "      <td>step_1</td>\n",
       "      <td>2017-03-15 00:43:32</td>\n",
       "    </tr>\n",
       "    <tr>\n",
       "      <th>8</th>\n",
       "      <td>4192640</td>\n",
       "      <td>692067844_75217592829</td>\n",
       "      <td>706721307_85347845958_18583</td>\n",
       "      <td>step_2</td>\n",
       "      <td>2017-03-15 00:43:48</td>\n",
       "    </tr>\n",
       "    <tr>\n",
       "      <th>9</th>\n",
       "      <td>4192640</td>\n",
       "      <td>692067844_75217592829</td>\n",
       "      <td>706721307_85347845958_18583</td>\n",
       "      <td>step_1</td>\n",
       "      <td>2017-03-15 00:44:36</td>\n",
       "    </tr>\n",
       "  </tbody>\n",
       "</table>\n",
       "</div>"
      ],
      "text/plain": [
       "   client_id             visitor_id                      visit_id  \\\n",
       "0    9088444  242404224_96732670250  423038079_46067236368_400417   \n",
       "1    7179755  167765295_97487764427   264484508_5982901710_928530   \n",
       "2    7179755  167765295_97487764427   264484508_5982901710_928530   \n",
       "3    7179755  167765295_97487764427   264484508_5982901710_928530   \n",
       "4    7179755  167765295_97487764427   264484508_5982901710_928530   \n",
       "5    7179755  167765295_97487764427   264484508_5982901710_928530   \n",
       "6    4192640  692067844_75217592829   706721307_85347845958_18583   \n",
       "7    4192640  692067844_75217592829   706721307_85347845958_18583   \n",
       "8    4192640  692067844_75217592829   706721307_85347845958_18583   \n",
       "9    4192640  692067844_75217592829   706721307_85347845958_18583   \n",
       "\n",
       "  process_step            date_time  \n",
       "0       step_3  2017-03-15 00:03:03  \n",
       "1        start  2017-03-15 00:19:28  \n",
       "2       step_1  2017-03-15 00:20:50  \n",
       "3       step_2  2017-03-15 00:22:52  \n",
       "4       step_3  2017-03-15 00:23:47  \n",
       "5      confirm  2017-03-15 00:26:24  \n",
       "6        start  2017-03-15 00:43:23  \n",
       "7       step_1  2017-03-15 00:43:32  \n",
       "8       step_2  2017-03-15 00:43:48  \n",
       "9       step_1  2017-03-15 00:44:36  "
      ]
     },
     "execution_count": 3,
     "metadata": {},
     "output_type": "execute_result"
    }
   ],
   "source": [
    "df_concat.head(10)"
   ]
  },
  {
   "cell_type": "code",
   "execution_count": 4,
   "metadata": {},
   "outputs": [
    {
     "data": {
      "text/html": [
       "<div>\n",
       "<style scoped>\n",
       "    .dataframe tbody tr th:only-of-type {\n",
       "        vertical-align: middle;\n",
       "    }\n",
       "\n",
       "    .dataframe tbody tr th {\n",
       "        vertical-align: top;\n",
       "    }\n",
       "\n",
       "    .dataframe thead th {\n",
       "        text-align: right;\n",
       "    }\n",
       "</style>\n",
       "<table border=\"1\" class=\"dataframe\">\n",
       "  <thead>\n",
       "    <tr style=\"text-align: right;\">\n",
       "      <th></th>\n",
       "      <th>client_id</th>\n",
       "      <th>years_as_client</th>\n",
       "      <th>months_as_client</th>\n",
       "      <th>age</th>\n",
       "      <th>gender</th>\n",
       "      <th>number_of_accounts</th>\n",
       "      <th>total_balance</th>\n",
       "      <th>calls_in_the_last_6_months</th>\n",
       "      <th>frequency_of_logons_6_months</th>\n",
       "    </tr>\n",
       "  </thead>\n",
       "  <tbody>\n",
       "    <tr>\n",
       "      <th>0</th>\n",
       "      <td>836976</td>\n",
       "      <td>6.0</td>\n",
       "      <td>73.0</td>\n",
       "      <td>60.5</td>\n",
       "      <td>U</td>\n",
       "      <td>2.0</td>\n",
       "      <td>45105.30</td>\n",
       "      <td>6.0</td>\n",
       "      <td>9.0</td>\n",
       "    </tr>\n",
       "    <tr>\n",
       "      <th>1</th>\n",
       "      <td>2304905</td>\n",
       "      <td>7.0</td>\n",
       "      <td>94.0</td>\n",
       "      <td>58.0</td>\n",
       "      <td>U</td>\n",
       "      <td>2.0</td>\n",
       "      <td>110860.30</td>\n",
       "      <td>6.0</td>\n",
       "      <td>9.0</td>\n",
       "    </tr>\n",
       "    <tr>\n",
       "      <th>2</th>\n",
       "      <td>1439522</td>\n",
       "      <td>5.0</td>\n",
       "      <td>64.0</td>\n",
       "      <td>32.0</td>\n",
       "      <td>U</td>\n",
       "      <td>2.0</td>\n",
       "      <td>52467.79</td>\n",
       "      <td>6.0</td>\n",
       "      <td>9.0</td>\n",
       "    </tr>\n",
       "    <tr>\n",
       "      <th>3</th>\n",
       "      <td>1562045</td>\n",
       "      <td>16.0</td>\n",
       "      <td>198.0</td>\n",
       "      <td>49.0</td>\n",
       "      <td>M</td>\n",
       "      <td>2.0</td>\n",
       "      <td>67454.65</td>\n",
       "      <td>3.0</td>\n",
       "      <td>6.0</td>\n",
       "    </tr>\n",
       "    <tr>\n",
       "      <th>4</th>\n",
       "      <td>5126305</td>\n",
       "      <td>12.0</td>\n",
       "      <td>145.0</td>\n",
       "      <td>33.0</td>\n",
       "      <td>F</td>\n",
       "      <td>2.0</td>\n",
       "      <td>103671.75</td>\n",
       "      <td>0.0</td>\n",
       "      <td>3.0</td>\n",
       "    </tr>\n",
       "  </tbody>\n",
       "</table>\n",
       "</div>"
      ],
      "text/plain": [
       "   client_id  years_as_client  months_as_client   age gender  \\\n",
       "0     836976              6.0              73.0  60.5      U   \n",
       "1    2304905              7.0              94.0  58.0      U   \n",
       "2    1439522              5.0              64.0  32.0      U   \n",
       "3    1562045             16.0             198.0  49.0      M   \n",
       "4    5126305             12.0             145.0  33.0      F   \n",
       "\n",
       "   number_of_accounts  total_balance  calls_in_the_last_6_months  \\\n",
       "0                 2.0       45105.30                         6.0   \n",
       "1                 2.0      110860.30                         6.0   \n",
       "2                 2.0       52467.79                         6.0   \n",
       "3                 2.0       67454.65                         3.0   \n",
       "4                 2.0      103671.75                         0.0   \n",
       "\n",
       "   frequency_of_logons_6_months  \n",
       "0                           9.0  \n",
       "1                           9.0  \n",
       "2                           9.0  \n",
       "3                           6.0  \n",
       "4                           3.0  "
      ]
     },
     "execution_count": 4,
     "metadata": {},
     "output_type": "execute_result"
    }
   ],
   "source": [
    "df_demo.head()"
   ]
  },
  {
   "cell_type": "code",
   "execution_count": 5,
   "metadata": {},
   "outputs": [
    {
     "data": {
      "text/html": [
       "<div>\n",
       "<style scoped>\n",
       "    .dataframe tbody tr th:only-of-type {\n",
       "        vertical-align: middle;\n",
       "    }\n",
       "\n",
       "    .dataframe tbody tr th {\n",
       "        vertical-align: top;\n",
       "    }\n",
       "\n",
       "    .dataframe thead th {\n",
       "        text-align: right;\n",
       "    }\n",
       "</style>\n",
       "<table border=\"1\" class=\"dataframe\">\n",
       "  <thead>\n",
       "    <tr style=\"text-align: right;\">\n",
       "      <th></th>\n",
       "      <th>client_id</th>\n",
       "      <th>Variation</th>\n",
       "    </tr>\n",
       "  </thead>\n",
       "  <tbody>\n",
       "    <tr>\n",
       "      <th>0</th>\n",
       "      <td>9988021</td>\n",
       "      <td>Test</td>\n",
       "    </tr>\n",
       "    <tr>\n",
       "      <th>1</th>\n",
       "      <td>8320017</td>\n",
       "      <td>Test</td>\n",
       "    </tr>\n",
       "    <tr>\n",
       "      <th>2</th>\n",
       "      <td>4033851</td>\n",
       "      <td>Control</td>\n",
       "    </tr>\n",
       "    <tr>\n",
       "      <th>3</th>\n",
       "      <td>1982004</td>\n",
       "      <td>Test</td>\n",
       "    </tr>\n",
       "    <tr>\n",
       "      <th>4</th>\n",
       "      <td>9294070</td>\n",
       "      <td>Control</td>\n",
       "    </tr>\n",
       "  </tbody>\n",
       "</table>\n",
       "</div>"
      ],
      "text/plain": [
       "   client_id Variation\n",
       "0    9988021      Test\n",
       "1    8320017      Test\n",
       "2    4033851   Control\n",
       "3    1982004      Test\n",
       "4    9294070   Control"
      ]
     },
     "execution_count": 5,
     "metadata": {},
     "output_type": "execute_result"
    }
   ],
   "source": [
    "df_test_control.head()"
   ]
  },
  {
   "cell_type": "code",
   "execution_count": 40,
   "metadata": {},
   "outputs": [
    {
     "data": {
      "image/png": "[encoded data removed]",
      "text/plain": [
       "<Figure size 1000x600 with 1 Axes>"
      ]
     },
     "metadata": {},
     "output_type": "display_data"
    }
   ],
   "source": [
    "# Step 1: Merge df_test_control with df_concat\n",
    "merged_df = pd.merge(df_concat, df_test_control, on='client_id', how='inner')\n",
    "\n",
    "# Step 2: Filter merged dataframe to include only clients present in both df_concat and df_test_control\n",
    "filtered_df = merged_df[merged_df['client_id'].isin(df_test_control['client_id'])]\n",
    "\n",
    "# Step 3: Filter the dataframe to include only clients who have completed all steps from start to confirm\n",
    "filtered_df = filtered_df[filtered_df['process_step'].isin(['start', 'step_1', 'step_2', 'step_3', 'confirm'])]\n",
    "\n",
    "# Step 4: Group by process step and variation and count the number of clients\n",
    "grouped_df = filtered_df.groupby(['process_step', 'Variation']).size().unstack()\n",
    "\n",
    "# Step 5: Calculate total number of clients for each process step and sort the dataframe\n",
    "grouped_df['Total'] = grouped_df.sum(axis=1)\n",
    "grouped_df = grouped_df.sort_values(by='Total', ascending=False)\n",
    "grouped_df.drop(columns='Total', inplace=True)\n",
    "\n",
    "# Step 6: Plot the results as stacked bar charts side by side\n",
    "fig, ax = plt.subplots(figsize=(10, 6))\n",
    "\n",
    "bar_width = 0.30\n",
    "index = range(len(grouped_df.index))\n",
    "\n",
    "# Plot bars for 'Control' and 'Test' side by side for each process step\n",
    "bar1 = ax.bar(index, grouped_df['Control'], bar_width, label='Control')\n",
    "bar2 = ax.bar([i + bar_width for i in index], grouped_df['Test'], bar_width, label='Test')\n",
    "\n",
    "# Set title, labels, and ticks\n",
    "ax.set_title('Number of Clients by Process Step and Variation')\n",
    "ax.set_xlabel('Process Step')\n",
    "ax.set_ylabel('Number of Clients')\n",
    "ax.set_xticks([i + bar_width/2 for i in index])\n",
    "ax.set_xticklabels(grouped_df.index, rotation=45)\n",
    "ax.legend(title='Variation')\n",
    "\n",
    "plt.tight_layout()\n",
    "plt.show()\n"
   ]
  },
  {
   "cell_type": "code",
   "execution_count": 67,
   "metadata": {},
   "outputs": [
    {
     "data": {
      "image/png": "[encoded data removed]",
      "text/plain": [
       "<Figure size 1000x600 with 1 Axes>"
      ]
     },
     "metadata": {},
     "output_type": "display_data"
    }
   ],
   "source": [
    "# Step 1: Merge df_test_control with df_concat\n",
    "merged_df = pd.merge(df_concat, df_test_control, on='client_id', how='inner')\n",
    "\n",
    "# Step 2: Filter merged dataframe to include only clients present in both df_concat and df_test_control\n",
    "filtered_df = merged_df[merged_df['client_id'].isin(df_test_control['client_id'])]\n",
    "\n",
    "# Step 3: Filter the dataframe to include only clients who have completed all steps from start to confirm\n",
    "filtered_df = filtered_df[filtered_df['process_step'].isin(['start', 'step_1', 'step_2', 'step_3', 'confirm'])]\n",
    "\n",
    "# Step 4: Group by process step and variation and count the number of unique visitor IDs\n",
    "grouped_df = filtered_df.groupby(['process_step', 'Variation'])['visitor_id'].nunique().unstack()\n",
    "\n",
    "# Step 5: Calculate total number of unique visitor IDs for each process step and sort the dataframe\n",
    "grouped_df['Total'] = grouped_df.sum(axis=1)\n",
    "grouped_df = grouped_df.sort_values(by='Total', ascending=False)\n",
    "grouped_df.drop(columns='Total', inplace=True)\n",
    "\n",
    "# Step 6: Plot the results as stacked bar charts side by side\n",
    "fig, ax = plt.subplots(figsize=(10, 6))\n",
    "\n",
    "bar_width = 0.30\n",
    "index = range(len(grouped_df.index))\n",
    "\n",
    "# Plot bars for 'Control' and 'Test' side by side for each process step\n",
    "bar1 = ax.bar(index, grouped_df['Control'], bar_width, label='Control')\n",
    "bar2 = ax.bar([i + bar_width for i in index], grouped_df['Test'], bar_width, label='Test')\n",
    "\n",
    "# Set title, labels, and ticks\n",
    "ax.set_title('Number of Unique Visitors by Process Step and Variation')\n",
    "ax.set_xlabel('Process Step')\n",
    "ax.set_ylabel('Number of Unique Visitors')\n",
    "ax.set_xticks([i + bar_width/2 for i in index])\n",
    "ax.set_xticklabels(grouped_df.index, rotation=45)\n",
    "ax.legend(title='Variation')\n",
    "\n",
    "plt.tight_layout()\n",
    "plt.show()\n"
   ]
  },
  {
   "cell_type": "code",
   "execution_count": 73,
   "metadata": {},
   "outputs": [
    {
     "ename": "KeyError",
     "evalue": "0",
     "output_type": "error",
     "traceback": [
      "\u001b[0;31m---------------------------------------------------------------------------\u001b[0m",
      "\u001b[0;31mKeyError\u001b[0m                                  Traceback (most recent call last)",
      "File \u001b[0;32m~/Library/Python/3.9/lib/python/site-packages/pandas/core/indexes/base.py:3805\u001b[0m, in \u001b[0;36mIndex.get_loc\u001b[0;34m(self, key)\u001b[0m\n\u001b[1;32m   3804\u001b[0m \u001b[38;5;28;01mtry\u001b[39;00m:\n\u001b[0;32m-> 3805\u001b[0m     \u001b[38;5;28;01mreturn\u001b[39;00m \u001b[38;5;28;43mself\u001b[39;49m\u001b[38;5;241;43m.\u001b[39;49m\u001b[43m_engine\u001b[49m\u001b[38;5;241;43m.\u001b[39;49m\u001b[43mget_loc\u001b[49m\u001b[43m(\u001b[49m\u001b[43mcasted_key\u001b[49m\u001b[43m)\u001b[49m\n\u001b[1;32m   3806\u001b[0m \u001b[38;5;28;01mexcept\u001b[39;00m \u001b[38;5;167;01mKeyError\u001b[39;00m \u001b[38;5;28;01mas\u001b[39;00m err:\n",
      "File \u001b[0;32mindex.pyx:167\u001b[0m, in \u001b[0;36mpandas._libs.index.IndexEngine.get_loc\u001b[0;34m()\u001b[0m\n",
      "File \u001b[0;32mindex.pyx:196\u001b[0m, in \u001b[0;36mpandas._libs.index.IndexEngine.get_loc\u001b[0;34m()\u001b[0m\n",
      "File \u001b[0;32mpandas/_libs/hashtable_class_helper.pxi:7081\u001b[0m, in \u001b[0;36mpandas._libs.hashtable.PyObjectHashTable.get_item\u001b[0;34m()\u001b[0m\n",
      "File \u001b[0;32mpandas/_libs/hashtable_class_helper.pxi:7089\u001b[0m, in \u001b[0;36mpandas._libs.hashtable.PyObjectHashTable.get_item\u001b[0;34m()\u001b[0m\n",
      "\u001b[0;31mKeyError\u001b[0m: 0",
      "\nThe above exception was the direct cause of the following exception:\n",
      "\u001b[0;31mKeyError\u001b[0m                                  Traceback (most recent call last)",
      "Cell \u001b[0;32mIn[73], line 5\u001b[0m\n\u001b[1;32m      2\u001b[0m step_mapping \u001b[38;5;241m=\u001b[39m {\u001b[38;5;124m'\u001b[39m\u001b[38;5;124mstart\u001b[39m\u001b[38;5;124m'\u001b[39m: \u001b[38;5;241m0\u001b[39m, \u001b[38;5;124m'\u001b[39m\u001b[38;5;124mstep_1\u001b[39m\u001b[38;5;124m'\u001b[39m: \u001b[38;5;241m1\u001b[39m, \u001b[38;5;124m'\u001b[39m\u001b[38;5;124mstep_2\u001b[39m\u001b[38;5;124m'\u001b[39m: \u001b[38;5;241m2\u001b[39m, \u001b[38;5;124m'\u001b[39m\u001b[38;5;124mstep_3\u001b[39m\u001b[38;5;124m'\u001b[39m: \u001b[38;5;241m3\u001b[39m, \u001b[38;5;124m'\u001b[39m\u001b[38;5;124mconfirm\u001b[39m\u001b[38;5;124m'\u001b[39m: \u001b[38;5;241m4\u001b[39m}\n\u001b[1;32m      4\u001b[0m \u001b[38;5;66;03m# Completion Rate\u001b[39;00m\n\u001b[0;32m----> 5\u001b[0m total_started \u001b[38;5;241m=\u001b[39m \u001b[43mgrouped_df\u001b[49m\u001b[38;5;241;43m.\u001b[39;49m\u001b[43mloc\u001b[49m\u001b[43m[\u001b[49m\u001b[43mstep_mapping\u001b[49m\u001b[43m[\u001b[49m\u001b[38;5;124;43m'\u001b[39;49m\u001b[38;5;124;43mstart\u001b[39;49m\u001b[38;5;124;43m'\u001b[39;49m\u001b[43m]\u001b[49m\u001b[43m]\u001b[49m\u001b[38;5;241m.\u001b[39msum()  \u001b[38;5;66;03m# Total visitors who started the process\u001b[39;00m\n\u001b[1;32m      6\u001b[0m total_completed \u001b[38;5;241m=\u001b[39m grouped_df\u001b[38;5;241m.\u001b[39mloc[step_mapping[\u001b[38;5;124m'\u001b[39m\u001b[38;5;124mconfirm\u001b[39m\u001b[38;5;124m'\u001b[39m]]\u001b[38;5;241m.\u001b[39msum()  \u001b[38;5;66;03m# Total visitors who reached 'confirm' step\u001b[39;00m\n\u001b[1;32m      7\u001b[0m completion_rate \u001b[38;5;241m=\u001b[39m total_completed \u001b[38;5;241m/\u001b[39m total_started\n",
      "File \u001b[0;32m~/Library/Python/3.9/lib/python/site-packages/pandas/core/indexing.py:1191\u001b[0m, in \u001b[0;36m_LocationIndexer.__getitem__\u001b[0;34m(self, key)\u001b[0m\n\u001b[1;32m   1189\u001b[0m maybe_callable \u001b[38;5;241m=\u001b[39m com\u001b[38;5;241m.\u001b[39mapply_if_callable(key, \u001b[38;5;28mself\u001b[39m\u001b[38;5;241m.\u001b[39mobj)\n\u001b[1;32m   1190\u001b[0m maybe_callable \u001b[38;5;241m=\u001b[39m \u001b[38;5;28mself\u001b[39m\u001b[38;5;241m.\u001b[39m_check_deprecated_callable_usage(key, maybe_callable)\n\u001b[0;32m-> 1191\u001b[0m \u001b[38;5;28;01mreturn\u001b[39;00m \u001b[38;5;28;43mself\u001b[39;49m\u001b[38;5;241;43m.\u001b[39;49m\u001b[43m_getitem_axis\u001b[49m\u001b[43m(\u001b[49m\u001b[43mmaybe_callable\u001b[49m\u001b[43m,\u001b[49m\u001b[43m \u001b[49m\u001b[43maxis\u001b[49m\u001b[38;5;241;43m=\u001b[39;49m\u001b[43maxis\u001b[49m\u001b[43m)\u001b[49m\n",
      "File \u001b[0;32m~/Library/Python/3.9/lib/python/site-packages/pandas/core/indexing.py:1431\u001b[0m, in \u001b[0;36m_LocIndexer._getitem_axis\u001b[0;34m(self, key, axis)\u001b[0m\n\u001b[1;32m   1429\u001b[0m \u001b[38;5;66;03m# fall thru to straight lookup\u001b[39;00m\n\u001b[1;32m   1430\u001b[0m \u001b[38;5;28mself\u001b[39m\u001b[38;5;241m.\u001b[39m_validate_key(key, axis)\n\u001b[0;32m-> 1431\u001b[0m \u001b[38;5;28;01mreturn\u001b[39;00m \u001b[38;5;28;43mself\u001b[39;49m\u001b[38;5;241;43m.\u001b[39;49m\u001b[43m_get_label\u001b[49m\u001b[43m(\u001b[49m\u001b[43mkey\u001b[49m\u001b[43m,\u001b[49m\u001b[43m \u001b[49m\u001b[43maxis\u001b[49m\u001b[38;5;241;43m=\u001b[39;49m\u001b[43maxis\u001b[49m\u001b[43m)\u001b[49m\n",
      "File \u001b[0;32m~/Library/Python/3.9/lib/python/site-packages/pandas/core/indexing.py:1381\u001b[0m, in \u001b[0;36m_LocIndexer._get_label\u001b[0;34m(self, label, axis)\u001b[0m\n\u001b[1;32m   1379\u001b[0m \u001b[38;5;28;01mdef\u001b[39;00m \u001b[38;5;21m_get_label\u001b[39m(\u001b[38;5;28mself\u001b[39m, label, axis: AxisInt):\n\u001b[1;32m   1380\u001b[0m     \u001b[38;5;66;03m# GH#5567 this will fail if the label is not present in the axis.\u001b[39;00m\n\u001b[0;32m-> 1381\u001b[0m     \u001b[38;5;28;01mreturn\u001b[39;00m \u001b[38;5;28;43mself\u001b[39;49m\u001b[38;5;241;43m.\u001b[39;49m\u001b[43mobj\u001b[49m\u001b[38;5;241;43m.\u001b[39;49m\u001b[43mxs\u001b[49m\u001b[43m(\u001b[49m\u001b[43mlabel\u001b[49m\u001b[43m,\u001b[49m\u001b[43m \u001b[49m\u001b[43maxis\u001b[49m\u001b[38;5;241;43m=\u001b[39;49m\u001b[43maxis\u001b[49m\u001b[43m)\u001b[49m\n",
      "File \u001b[0;32m~/Library/Python/3.9/lib/python/site-packages/pandas/core/generic.py:4301\u001b[0m, in \u001b[0;36mNDFrame.xs\u001b[0;34m(self, key, axis, level, drop_level)\u001b[0m\n\u001b[1;32m   4299\u001b[0m             new_index \u001b[38;5;241m=\u001b[39m index[loc]\n\u001b[1;32m   4300\u001b[0m \u001b[38;5;28;01melse\u001b[39;00m:\n\u001b[0;32m-> 4301\u001b[0m     loc \u001b[38;5;241m=\u001b[39m \u001b[43mindex\u001b[49m\u001b[38;5;241;43m.\u001b[39;49m\u001b[43mget_loc\u001b[49m\u001b[43m(\u001b[49m\u001b[43mkey\u001b[49m\u001b[43m)\u001b[49m\n\u001b[1;32m   4303\u001b[0m     \u001b[38;5;28;01mif\u001b[39;00m \u001b[38;5;28misinstance\u001b[39m(loc, np\u001b[38;5;241m.\u001b[39mndarray):\n\u001b[1;32m   4304\u001b[0m         \u001b[38;5;28;01mif\u001b[39;00m loc\u001b[38;5;241m.\u001b[39mdtype \u001b[38;5;241m==\u001b[39m np\u001b[38;5;241m.\u001b[39mbool_:\n",
      "File \u001b[0;32m~/Library/Python/3.9/lib/python/site-packages/pandas/core/indexes/base.py:3812\u001b[0m, in \u001b[0;36mIndex.get_loc\u001b[0;34m(self, key)\u001b[0m\n\u001b[1;32m   3807\u001b[0m     \u001b[38;5;28;01mif\u001b[39;00m \u001b[38;5;28misinstance\u001b[39m(casted_key, \u001b[38;5;28mslice\u001b[39m) \u001b[38;5;129;01mor\u001b[39;00m (\n\u001b[1;32m   3808\u001b[0m         \u001b[38;5;28misinstance\u001b[39m(casted_key, abc\u001b[38;5;241m.\u001b[39mIterable)\n\u001b[1;32m   3809\u001b[0m         \u001b[38;5;129;01mand\u001b[39;00m \u001b[38;5;28many\u001b[39m(\u001b[38;5;28misinstance\u001b[39m(x, \u001b[38;5;28mslice\u001b[39m) \u001b[38;5;28;01mfor\u001b[39;00m x \u001b[38;5;129;01min\u001b[39;00m casted_key)\n\u001b[1;32m   3810\u001b[0m     ):\n\u001b[1;32m   3811\u001b[0m         \u001b[38;5;28;01mraise\u001b[39;00m InvalidIndexError(key)\n\u001b[0;32m-> 3812\u001b[0m     \u001b[38;5;28;01mraise\u001b[39;00m \u001b[38;5;167;01mKeyError\u001b[39;00m(key) \u001b[38;5;28;01mfrom\u001b[39;00m \u001b[38;5;21;01merr\u001b[39;00m\n\u001b[1;32m   3813\u001b[0m \u001b[38;5;28;01mexcept\u001b[39;00m \u001b[38;5;167;01mTypeError\u001b[39;00m:\n\u001b[1;32m   3814\u001b[0m     \u001b[38;5;66;03m# If we have a listlike key, _check_indexing_error will raise\u001b[39;00m\n\u001b[1;32m   3815\u001b[0m     \u001b[38;5;66;03m#  InvalidIndexError. Otherwise we fall through and re-raise\u001b[39;00m\n\u001b[1;32m   3816\u001b[0m     \u001b[38;5;66;03m#  the TypeError.\u001b[39;00m\n\u001b[1;32m   3817\u001b[0m     \u001b[38;5;28mself\u001b[39m\u001b[38;5;241m.\u001b[39m_check_indexing_error(key)\n",
      "\u001b[0;31mKeyError\u001b[0m: 0"
     ]
    }
   ],
   "source": [
    "# Map process steps to numbers\n",
    "step_mapping = {'start': 0, 'step_1': 1, 'step_2': 2, 'step_3': 3, 'confirm': 4}\n",
    "\n",
    "# Completion Rate\n",
    "total_started = grouped_df.loc[step_mapping['start']].sum()  # Total visitors who started the process\n",
    "total_completed = grouped_df.loc[step_mapping['confirm']].sum()  # Total visitors who reached 'confirm' step\n",
    "completion_rate = total_completed / total_started\n",
    "\n",
    "# Time Spent on Each Step\n",
    "time_spent = {}\n",
    "for step in ['start', 'step_1', 'step_2', 'step_3', 'confirm']:\n",
    "    if step == 'start':\n",
    "        continue\n",
    "    prev_step = step_mapping['start'] if step == 'step_1' else step_mapping[step] - 1\n",
    "    time_spent[step] = (filtered_df[filtered_df['process_step'] == step]['date_time'] -\n",
    "                        filtered_df[filtered_df['process_step'] == f'step_{prev_step}']['date_time']).mean()\n",
    "\n",
    "# Error Rates\n",
    "error_rates = {}\n",
    "for step in ['start', 'step_1', 'step_2', 'step_3']:\n",
    "    next_step = step_mapping[step] + 1\n",
    "    error_count = filtered_df[(filtered_df['process_step'] == f'step_{next_step}') & \n",
    "                              (filtered_df['visitor_id'].duplicated(keep=False))].shape[0]\n",
    "    total_count = filtered_df[filtered_df['process_step'] == step].shape[0]\n",
    "    error_rates[step] = error_count / total_count\n",
    "\n",
    "print(\"Completion Rate:\", completion_rate)\n",
    "print(\"Time Spent on Each Step:\", time_spent)\n",
    "print(\"Error Rates:\", error_rates)\n",
    "\n"
   ]
  },
  {
   "cell_type": "code",
   "execution_count": 69,
   "metadata": {},
   "outputs": [
    {
     "data": {
      "text/plain": [
       "0    7179755\n",
       "1    7179755\n",
       "2    7179755\n",
       "3    7179755\n",
       "4    7179755\n",
       "5    4192640\n",
       "6    4192640\n",
       "7    4192640\n",
       "8    4192640\n",
       "Name: client_id, dtype: int64"
      ]
     },
     "execution_count": 69,
     "metadata": {},
     "output_type": "execute_result"
    }
   ],
   "source": [
    "merged_df['client_id'].head(9)"
   ]
  },
  {
   "cell_type": "code",
   "execution_count": 54,
   "metadata": {},
   "outputs": [
    {
     "data": {
      "text/plain": [
       "client_id        50500\n",
       "visitor_id       56011\n",
       "visit_id         69205\n",
       "process_step         5\n",
       "date_time       283344\n",
       "Variation            2\n",
       "dtype: int64"
      ]
     },
     "execution_count": 54,
     "metadata": {},
     "output_type": "execute_result"
    }
   ],
   "source": [
    "merged_df.nunique()"
   ]
  },
  {
   "cell_type": "code",
   "execution_count": 34,
   "metadata": {},
   "outputs": [
    {
     "data": {
      "text/plain": [
       "130236"
      ]
     },
     "execution_count": 34,
     "metadata": {},
     "output_type": "execute_result"
    }
   ],
   "source": [
    "df_concat['visitor_id'].nunique()"
   ]
  },
  {
   "cell_type": "code",
   "execution_count": 46,
   "metadata": {},
   "outputs": [
    {
     "data": {
      "text/plain": [
       "client_id       0\n",
       "visitor_id      0\n",
       "visit_id        0\n",
       "process_step    0\n",
       "date_time       0\n",
       "dtype: int64"
      ]
     },
     "execution_count": 46,
     "metadata": {},
     "output_type": "execute_result"
    }
   ],
   "source": [
    "df_concat.isna().sum()"
   ]
  },
  {
   "cell_type": "code",
   "execution_count": 51,
   "metadata": {},
   "outputs": [
    {
     "data": {
      "text/plain": [
       "client_id       0\n",
       "visitor_id      0\n",
       "visit_id        0\n",
       "process_step    0\n",
       "date_time       0\n",
       "Variation       0\n",
       "dtype: int64"
      ]
     },
     "execution_count": 51,
     "metadata": {},
     "output_type": "execute_result"
    }
   ],
   "source": [
    "merged_df.isna().sum()"
   ]
  },
  {
   "cell_type": "code",
   "execution_count": null,
   "metadata": {},
   "outputs": [],
   "source": [
    "merged_df"
   ]
  },
  {
   "cell_type": "code",
   "execution_count": 58,
   "metadata": {},
   "outputs": [
    {
     "name": "stdout",
     "output_type": "stream",
     "text": [
      "['264484508_5982901710_928530']\n"
     ]
    }
   ],
   "source": [
    "# Filter the DataFrame for the specific client_id\n",
    "specific_client_df = df_concat[df_concat['client_id'] == 7179755]\n",
    "\n",
    "# Extract the visitor_id column\n",
    "visitor_ids = specific_client_df['visit_id']\n",
    "\n",
    "# Print the unique visitor_ids\n",
    "print(visitor_ids.unique())\n"
   ]
  },
  {
   "cell_type": "code",
   "execution_count": 66,
   "metadata": {},
   "outputs": [
    {
     "data": {
      "text/plain": [
       "client_id\n",
       "9008485    14\n",
       "8167818    13\n",
       "323753     11\n",
       "1771611    11\n",
       "6305830    11\n",
       "           ..\n",
       "3507622     1\n",
       "3507472     1\n",
       "3507471     1\n",
       "3507329     1\n",
       "9999875     1\n",
       "Name: visitor_id, Length: 120157, dtype: int64"
      ]
     },
     "execution_count": 66,
     "metadata": {},
     "output_type": "execute_result"
    }
   ],
   "source": [
    "# Calculate the count of unique visitor_ids for each client_id\n",
    "visitor_counts_by_client = df_concat.groupby('client_id')['visitor_id'].nunique()\n",
    "\n",
    "# Print the counts\n",
    "visitor_counts_by_client.sort_values(ascending=False)\n"
   ]
  },
  {
   "cell_type": "code",
   "execution_count": null,
   "metadata": {},
   "outputs": [],
   "source": []
  }
 ],
 "metadata": {
  "kernelspec": {
   "display_name": "Python 3",
   "language": "python",
   "name": "python3"
  },
  "language_info": {
   "codemirror_mode": {
    "name": "ipython",
    "version": 3
   },
   "file_extension": ".py",
   "mimetype": "text/x-python",
   "name": "python",
   "nbconvert_exporter": "python",
   "pygments_lexer": "ipython3",
   "version": "3.9.6"
  }
 },
 "nbformat": 4,
 "nbformat_minor": 2
}
