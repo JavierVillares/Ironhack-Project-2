{
 "cells": [
  {
   "cell_type": "code",
   "execution_count": 2,
   "metadata": {},
   "outputs": [],
   "source": [
    "import pandas as pd\n",
    "import matplotlib.pyplot as plt\n",
    "import seaborn as sns\n",
    "import numpy as np\n",
    "\n",
    "%matplotlib inline"
   ]
  },
  {
   "cell_type": "code",
   "execution_count": 3,
   "metadata": {},
   "outputs": [],
   "source": [
    "url1 = '/Users/javi/Desktop/Ironhack/Entregas de github/Ironhack-Project-2/Raw data/df_final_web_data_pt_1.txt'\n",
    "url2 = '/Users/javi/Desktop/Ironhack/Entregas de github/Ironhack-Project-2/Raw data/df_final_web_data_pt_2.txt'\n",
    "\n",
    "df1 = pd.read_csv(url1)\n",
    "df2 = pd.read_csv(url2)"
   ]
  },
  {
   "cell_type": "code",
   "execution_count": 4,
   "metadata": {},
   "outputs": [
    {
     "name": "stdout",
     "output_type": "stream",
     "text": [
      "58391\n"
     ]
    }
   ],
   "source": [
    "df1.client_id.unique()\n",
    "print(len(df1.client_id.unique()))"
   ]
  },
  {
   "cell_type": "code",
   "execution_count": 5,
   "metadata": {},
   "outputs": [
    {
     "data": {
      "text/plain": [
       "client_id        58391\n",
       "visitor_id       62936\n",
       "visit_id         75256\n",
       "process_step         5\n",
       "date_time       282666\n",
       "dtype: int64"
      ]
     },
     "execution_count": 5,
     "metadata": {},
     "output_type": "execute_result"
    }
   ],
   "source": [
    "df1.shape\n",
    "df1.nunique()"
   ]
  },
  {
   "cell_type": "code",
   "execution_count": 6,
   "metadata": {},
   "outputs": [
    {
     "data": {
      "text/plain": [
       "client_id        67430\n",
       "visitor_id       71042\n",
       "visit_id         82841\n",
       "process_step         5\n",
       "date_time       346697\n",
       "dtype: int64"
      ]
     },
     "execution_count": 6,
     "metadata": {},
     "output_type": "execute_result"
    }
   ],
   "source": [
    "df2.shape\n",
    "df2.nunique()"
   ]
  },
  {
   "cell_type": "markdown",
   "metadata": {},
   "source": [
    "TOTAL BETWEEN PT 1 AND PT2 IS 755.405"
   ]
  },
  {
   "cell_type": "code",
   "execution_count": 7,
   "metadata": {},
   "outputs": [
    {
     "name": "stdout",
     "output_type": "stream",
     "text": [
      "DF1 process_step\n",
      "start      108910\n",
      "step_1      73432\n",
      "step_2      61768\n",
      "step_3      53628\n",
      "confirm     45403\n",
      "Name: count, dtype: int64\n",
      "DF1 unique client_id = 58391\n",
      "DF2 process_step\n",
      "start      135035\n",
      "step_1      89761\n",
      "step_2      71294\n",
      "step_3      58614\n",
      "confirm     57560\n",
      "Name: count, dtype: int64\n",
      "DF2 unique client_id = 67430\n"
     ]
    }
   ],
   "source": [
    "print(\"DF1\", df1.process_step.value_counts())\n",
    "\n",
    "print(\"DF1 unique client_id =\", df1.client_id.nunique())\n",
    "\n",
    "print(\"DF2\", df2.process_step.value_counts())\n",
    "\n",
    "print(\"DF2 unique client_id =\", df2.client_id.nunique())"
   ]
  },
  {
   "cell_type": "code",
   "execution_count": 8,
   "metadata": {},
   "outputs": [
    {
     "data": {
      "text/plain": [
       "'2017-06-20 23:59:57'"
      ]
     },
     "execution_count": 8,
     "metadata": {},
     "output_type": "execute_result"
    }
   ],
   "source": [
    "df2.date_time.max()"
   ]
  },
  {
   "cell_type": "code",
   "execution_count": 9,
   "metadata": {},
   "outputs": [
    {
     "data": {
      "text/plain": [
       "67430"
      ]
     },
     "execution_count": 9,
     "metadata": {},
     "output_type": "execute_result"
    }
   ],
   "source": [
    "df2.isna().sum()\n",
    "df2['client_id'].nunique()"
   ]
  },
  {
   "cell_type": "code",
   "execution_count": 10,
   "metadata": {},
   "outputs": [
    {
     "name": "stdout",
     "output_type": "stream",
     "text": [
      "Number of common client_ids: 5664\n"
     ]
    }
   ],
   "source": [
    "# Assuming you have pandas imported as pd and your dataframes are df1 and df2\n",
    "common_client_ids = len(set(df1['client_id']).intersection(set(df2['client_id'])))\n",
    "\n",
    "print(\"Number of common client_ids:\", common_client_ids)\n"
   ]
  },
  {
   "cell_type": "code",
   "execution_count": 11,
   "metadata": {},
   "outputs": [
    {
     "data": {
      "text/html": [
       "<div>\n",
       "<style scoped>\n",
       "    .dataframe tbody tr th:only-of-type {\n",
       "        vertical-align: middle;\n",
       "    }\n",
       "\n",
       "    .dataframe tbody tr th {\n",
       "        vertical-align: top;\n",
       "    }\n",
       "\n",
       "    .dataframe thead th {\n",
       "        text-align: right;\n",
       "    }\n",
       "</style>\n",
       "<table border=\"1\" class=\"dataframe\">\n",
       "  <thead>\n",
       "    <tr style=\"text-align: right;\">\n",
       "      <th></th>\n",
       "      <th>client_id</th>\n",
       "      <th>visitor_id</th>\n",
       "      <th>visit_id</th>\n",
       "      <th>process_step</th>\n",
       "      <th>date_time</th>\n",
       "    </tr>\n",
       "  </thead>\n",
       "  <tbody>\n",
       "    <tr>\n",
       "      <th>0</th>\n",
       "      <td>9988021</td>\n",
       "      <td>580560515_7732621733</td>\n",
       "      <td>781255054_21935453173_531117</td>\n",
       "      <td>step_3</td>\n",
       "      <td>2017-04-17 15:27:07</td>\n",
       "    </tr>\n",
       "    <tr>\n",
       "      <th>1</th>\n",
       "      <td>9988021</td>\n",
       "      <td>580560515_7732621733</td>\n",
       "      <td>781255054_21935453173_531117</td>\n",
       "      <td>step_2</td>\n",
       "      <td>2017-04-17 15:26:51</td>\n",
       "    </tr>\n",
       "    <tr>\n",
       "      <th>2</th>\n",
       "      <td>9988021</td>\n",
       "      <td>580560515_7732621733</td>\n",
       "      <td>781255054_21935453173_531117</td>\n",
       "      <td>step_3</td>\n",
       "      <td>2017-04-17 15:19:22</td>\n",
       "    </tr>\n",
       "    <tr>\n",
       "      <th>3</th>\n",
       "      <td>9988021</td>\n",
       "      <td>580560515_7732621733</td>\n",
       "      <td>781255054_21935453173_531117</td>\n",
       "      <td>step_2</td>\n",
       "      <td>2017-04-17 15:19:13</td>\n",
       "    </tr>\n",
       "    <tr>\n",
       "      <th>4</th>\n",
       "      <td>9988021</td>\n",
       "      <td>580560515_7732621733</td>\n",
       "      <td>781255054_21935453173_531117</td>\n",
       "      <td>step_3</td>\n",
       "      <td>2017-04-17 15:18:04</td>\n",
       "    </tr>\n",
       "    <tr>\n",
       "      <th>...</th>\n",
       "      <td>...</td>\n",
       "      <td>...</td>\n",
       "      <td>...</td>\n",
       "      <td>...</td>\n",
       "      <td>...</td>\n",
       "    </tr>\n",
       "    <tr>\n",
       "      <th>755400</th>\n",
       "      <td>9668240</td>\n",
       "      <td>388766751_9038881013</td>\n",
       "      <td>922267647_3096648104_968866</td>\n",
       "      <td>start</td>\n",
       "      <td>2017-05-24 18:46:10</td>\n",
       "    </tr>\n",
       "    <tr>\n",
       "      <th>755401</th>\n",
       "      <td>9668240</td>\n",
       "      <td>388766751_9038881013</td>\n",
       "      <td>922267647_3096648104_968866</td>\n",
       "      <td>start</td>\n",
       "      <td>2017-05-24 18:45:29</td>\n",
       "    </tr>\n",
       "    <tr>\n",
       "      <th>755402</th>\n",
       "      <td>9668240</td>\n",
       "      <td>388766751_9038881013</td>\n",
       "      <td>922267647_3096648104_968866</td>\n",
       "      <td>step_1</td>\n",
       "      <td>2017-05-24 18:44:51</td>\n",
       "    </tr>\n",
       "    <tr>\n",
       "      <th>755403</th>\n",
       "      <td>9668240</td>\n",
       "      <td>388766751_9038881013</td>\n",
       "      <td>922267647_3096648104_968866</td>\n",
       "      <td>start</td>\n",
       "      <td>2017-05-24 18:44:34</td>\n",
       "    </tr>\n",
       "    <tr>\n",
       "      <th>755404</th>\n",
       "      <td>674799</td>\n",
       "      <td>947159805_81558194550</td>\n",
       "      <td>86152093_47511127657_716022</td>\n",
       "      <td>start</td>\n",
       "      <td>2017-06-03 12:17:09</td>\n",
       "    </tr>\n",
       "  </tbody>\n",
       "</table>\n",
       "<p>755405 rows × 5 columns</p>\n",
       "</div>"
      ],
      "text/plain": [
       "        client_id             visitor_id                      visit_id  \\\n",
       "0         9988021   580560515_7732621733  781255054_21935453173_531117   \n",
       "1         9988021   580560515_7732621733  781255054_21935453173_531117   \n",
       "2         9988021   580560515_7732621733  781255054_21935453173_531117   \n",
       "3         9988021   580560515_7732621733  781255054_21935453173_531117   \n",
       "4         9988021   580560515_7732621733  781255054_21935453173_531117   \n",
       "...           ...                    ...                           ...   \n",
       "755400    9668240   388766751_9038881013   922267647_3096648104_968866   \n",
       "755401    9668240   388766751_9038881013   922267647_3096648104_968866   \n",
       "755402    9668240   388766751_9038881013   922267647_3096648104_968866   \n",
       "755403    9668240   388766751_9038881013   922267647_3096648104_968866   \n",
       "755404     674799  947159805_81558194550   86152093_47511127657_716022   \n",
       "\n",
       "       process_step            date_time  \n",
       "0            step_3  2017-04-17 15:27:07  \n",
       "1            step_2  2017-04-17 15:26:51  \n",
       "2            step_3  2017-04-17 15:19:22  \n",
       "3            step_2  2017-04-17 15:19:13  \n",
       "4            step_3  2017-04-17 15:18:04  \n",
       "...             ...                  ...  \n",
       "755400        start  2017-05-24 18:46:10  \n",
       "755401        start  2017-05-24 18:45:29  \n",
       "755402       step_1  2017-05-24 18:44:51  \n",
       "755403        start  2017-05-24 18:44:34  \n",
       "755404        start  2017-06-03 12:17:09  \n",
       "\n",
       "[755405 rows x 5 columns]"
      ]
     },
     "execution_count": 11,
     "metadata": {},
     "output_type": "execute_result"
    }
   ],
   "source": [
    "# Concatenate the two DataFrames along the rows (axis=0)\n",
    "combined_df = pd.concat([df1, df2], ignore_index=True)\n",
    "\n",
    "# The ignore_index=True parameter resets the index of the resulting DataFrame\n",
    "\n",
    "# Check the combined DataFrame\n",
    "combined_df"
   ]
  },
  {
   "cell_type": "code",
   "execution_count": 12,
   "metadata": {},
   "outputs": [],
   "source": [
    "df_sorted = combined_df.sort_values(by='date_time')"
   ]
  },
  {
   "cell_type": "code",
   "execution_count": 15,
   "metadata": {},
   "outputs": [],
   "source": [
    "# Save the corrected DataFrame to a CSV file\n",
    "df_sorted.to_csv('/Users/javi/Desktop/Ironhack/Entregas de github/Ironhack-Project-2/Raw data/df_final_web_concat.csv', index=False)\n"
   ]
  },
  {
   "cell_type": "code",
   "execution_count": 16,
   "metadata": {},
   "outputs": [
    {
     "data": {
      "text/html": [
       "<div>\n",
       "<style scoped>\n",
       "    .dataframe tbody tr th:only-of-type {\n",
       "        vertical-align: middle;\n",
       "    }\n",
       "\n",
       "    .dataframe tbody tr th {\n",
       "        vertical-align: top;\n",
       "    }\n",
       "\n",
       "    .dataframe thead th {\n",
       "        text-align: right;\n",
       "    }\n",
       "</style>\n",
       "<table border=\"1\" class=\"dataframe\">\n",
       "  <thead>\n",
       "    <tr style=\"text-align: right;\">\n",
       "      <th></th>\n",
       "      <th>client_id</th>\n",
       "      <th>visitor_id</th>\n",
       "      <th>visit_id</th>\n",
       "      <th>process_step</th>\n",
       "      <th>date_time</th>\n",
       "    </tr>\n",
       "  </thead>\n",
       "  <tbody>\n",
       "    <tr>\n",
       "      <th>286566</th>\n",
       "      <td>9088444</td>\n",
       "      <td>242404224_96732670250</td>\n",
       "      <td>423038079_46067236368_400417</td>\n",
       "      <td>step_3</td>\n",
       "      <td>2017-03-15 00:03:03</td>\n",
       "    </tr>\n",
       "    <tr>\n",
       "      <th>35293</th>\n",
       "      <td>7179755</td>\n",
       "      <td>167765295_97487764427</td>\n",
       "      <td>264484508_5982901710_928530</td>\n",
       "      <td>start</td>\n",
       "      <td>2017-03-15 00:19:28</td>\n",
       "    </tr>\n",
       "    <tr>\n",
       "      <th>35292</th>\n",
       "      <td>7179755</td>\n",
       "      <td>167765295_97487764427</td>\n",
       "      <td>264484508_5982901710_928530</td>\n",
       "      <td>step_1</td>\n",
       "      <td>2017-03-15 00:20:50</td>\n",
       "    </tr>\n",
       "    <tr>\n",
       "      <th>35291</th>\n",
       "      <td>7179755</td>\n",
       "      <td>167765295_97487764427</td>\n",
       "      <td>264484508_5982901710_928530</td>\n",
       "      <td>step_2</td>\n",
       "      <td>2017-03-15 00:22:52</td>\n",
       "    </tr>\n",
       "    <tr>\n",
       "      <th>35290</th>\n",
       "      <td>7179755</td>\n",
       "      <td>167765295_97487764427</td>\n",
       "      <td>264484508_5982901710_928530</td>\n",
       "      <td>step_3</td>\n",
       "      <td>2017-03-15 00:23:47</td>\n",
       "    </tr>\n",
       "    <tr>\n",
       "      <th>...</th>\n",
       "      <td>...</td>\n",
       "      <td>...</td>\n",
       "      <td>...</td>\n",
       "      <td>...</td>\n",
       "      <td>...</td>\n",
       "    </tr>\n",
       "    <tr>\n",
       "      <th>519273</th>\n",
       "      <td>4159912</td>\n",
       "      <td>169591677_18042085072</td>\n",
       "      <td>358114812_31313949217_790854</td>\n",
       "      <td>start</td>\n",
       "      <td>2017-06-20 23:58:40</td>\n",
       "    </tr>\n",
       "    <tr>\n",
       "      <th>519272</th>\n",
       "      <td>4159912</td>\n",
       "      <td>169591677_18042085072</td>\n",
       "      <td>358114812_31313949217_790854</td>\n",
       "      <td>step_1</td>\n",
       "      <td>2017-06-20 23:59:00</td>\n",
       "    </tr>\n",
       "    <tr>\n",
       "      <th>519271</th>\n",
       "      <td>4159912</td>\n",
       "      <td>169591677_18042085072</td>\n",
       "      <td>358114812_31313949217_790854</td>\n",
       "      <td>step_2</td>\n",
       "      <td>2017-06-20 23:59:23</td>\n",
       "    </tr>\n",
       "    <tr>\n",
       "      <th>527151</th>\n",
       "      <td>5640210</td>\n",
       "      <td>854970757_75895258102</td>\n",
       "      <td>959123368_90077952691_695747</td>\n",
       "      <td>start</td>\n",
       "      <td>2017-06-20 23:59:53</td>\n",
       "    </tr>\n",
       "    <tr>\n",
       "      <th>670704</th>\n",
       "      <td>4227031</td>\n",
       "      <td>375803585_1924749079</td>\n",
       "      <td>694062705_73082073487_259240</td>\n",
       "      <td>start</td>\n",
       "      <td>2017-06-20 23:59:57</td>\n",
       "    </tr>\n",
       "  </tbody>\n",
       "</table>\n",
       "<p>755405 rows × 5 columns</p>\n",
       "</div>"
      ],
      "text/plain": [
       "        client_id             visitor_id                      visit_id  \\\n",
       "286566    9088444  242404224_96732670250  423038079_46067236368_400417   \n",
       "35293     7179755  167765295_97487764427   264484508_5982901710_928530   \n",
       "35292     7179755  167765295_97487764427   264484508_5982901710_928530   \n",
       "35291     7179755  167765295_97487764427   264484508_5982901710_928530   \n",
       "35290     7179755  167765295_97487764427   264484508_5982901710_928530   \n",
       "...           ...                    ...                           ...   \n",
       "519273    4159912  169591677_18042085072  358114812_31313949217_790854   \n",
       "519272    4159912  169591677_18042085072  358114812_31313949217_790854   \n",
       "519271    4159912  169591677_18042085072  358114812_31313949217_790854   \n",
       "527151    5640210  854970757_75895258102  959123368_90077952691_695747   \n",
       "670704    4227031   375803585_1924749079  694062705_73082073487_259240   \n",
       "\n",
       "       process_step            date_time  \n",
       "286566       step_3  2017-03-15 00:03:03  \n",
       "35293         start  2017-03-15 00:19:28  \n",
       "35292        step_1  2017-03-15 00:20:50  \n",
       "35291        step_2  2017-03-15 00:22:52  \n",
       "35290        step_3  2017-03-15 00:23:47  \n",
       "...             ...                  ...  \n",
       "519273        start  2017-06-20 23:58:40  \n",
       "519272       step_1  2017-06-20 23:59:00  \n",
       "519271       step_2  2017-06-20 23:59:23  \n",
       "527151        start  2017-06-20 23:59:53  \n",
       "670704        start  2017-06-20 23:59:57  \n",
       "\n",
       "[755405 rows x 5 columns]"
      ]
     },
     "execution_count": 16,
     "metadata": {},
     "output_type": "execute_result"
    }
   ],
   "source": [
    "df_sorted"
   ]
  },
  {
   "cell_type": "code",
   "execution_count": null,
   "metadata": {},
   "outputs": [],
   "source": []
  }
 ],
 "metadata": {
  "kernelspec": {
   "display_name": "base",
   "language": "python",
   "name": "python3"
  },
  "language_info": {
   "codemirror_mode": {
    "name": "ipython",
    "version": 3
   },
   "file_extension": ".py",
   "mimetype": "text/x-python",
   "name": "python",
   "nbconvert_exporter": "python",
   "pygments_lexer": "ipython3",
   "version": "3.9.6"
  }
 },
 "nbformat": 4,
 "nbformat_minor": 2
}
