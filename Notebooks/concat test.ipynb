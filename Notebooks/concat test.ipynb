{
 "cells": [
  {
   "cell_type": "code",
   "execution_count": 5,
   "metadata": {},
   "outputs": [],
   "source": [
    "import pandas as pd\n",
    "import matplotlib.pyplot as plt\n",
    "import seaborn as sns\n",
    "import numpy as np\n",
    "from scipy import stats as st\n",
    "\n",
    "%matplotlib inline"
   ]
  },
  {
   "cell_type": "markdown",
   "metadata": {},
   "source": [
    "# Importing 3 dataframes:\n",
    "df_test_control = Variation (Checks who is control and who is test) \n",
    "\n",
    "df_concat = Dataframe of online behaviour of clients when doing \"start - confirm\" steps and time frames\n",
    "\n",
    "df_demo = age, tenure, balance, etc. of clients"
   ]
  },
  {
   "cell_type": "code",
   "execution_count": 6,
   "metadata": {},
   "outputs": [],
   "source": [
    "url1 = ('/Users/javi/Desktop/Ironhack/Entregas de github/Ironhack-Project-2/Raw data/df_final_demo_cleaned.csv')\n",
    "url2 = ('/Users/javi/Desktop/Ironhack/Entregas de github/Ironhack-Project-2/Raw data/df_final_experiment_clients_cleaned.csv')\n",
    "url3 = ('/Users/javi/Desktop/Ironhack/Entregas de github/Ironhack-Project-2/Raw data/df_final_web_concat.csv')\n",
    "df_demo = pd.read_csv(url1)\n",
    "df_test_control = pd.read_csv(url2)\n",
    "df_concat = pd.read_csv(url3)"
   ]
  },
  {
   "cell_type": "code",
   "execution_count": 7,
   "metadata": {},
   "outputs": [
    {
     "data": {
      "text/plain": [
       "(70595, 9)"
      ]
     },
     "execution_count": 7,
     "metadata": {},
     "output_type": "execute_result"
    }
   ],
   "source": [
    "df_demo.shape"
   ]
  },
  {
   "cell_type": "code",
   "execution_count": 8,
   "metadata": {},
   "outputs": [
    {
     "name": "stdout",
     "output_type": "stream",
     "text": [
      "Number of occurrences where 'process_step' is 'start': 26968\n"
     ]
    }
   ],
   "source": [
    "# Count occurrences where the value in the 'process_step' column is 'start'\n",
    "start_count = (df_test_control['Variation'] == 'Test').sum()\n",
    "\n",
    "print(\"Number of occurrences where 'process_step' is 'start':\", start_count)\n"
   ]
  },
  {
   "cell_type": "code",
   "execution_count": 9,
   "metadata": {},
   "outputs": [
    {
     "data": {
      "text/html": [
       "<div>\n",
       "<style scoped>\n",
       "    .dataframe tbody tr th:only-of-type {\n",
       "        vertical-align: middle;\n",
       "    }\n",
       "\n",
       "    .dataframe tbody tr th {\n",
       "        vertical-align: top;\n",
       "    }\n",
       "\n",
       "    .dataframe thead th {\n",
       "        text-align: right;\n",
       "    }\n",
       "</style>\n",
       "<table border=\"1\" class=\"dataframe\">\n",
       "  <thead>\n",
       "    <tr style=\"text-align: right;\">\n",
       "      <th></th>\n",
       "      <th>client_id</th>\n",
       "      <th>visitor_id</th>\n",
       "      <th>visit_id</th>\n",
       "      <th>process_step</th>\n",
       "      <th>date_time</th>\n",
       "    </tr>\n",
       "  </thead>\n",
       "  <tbody>\n",
       "    <tr>\n",
       "      <th>0</th>\n",
       "      <td>9088444</td>\n",
       "      <td>242404224_96732670250</td>\n",
       "      <td>423038079_46067236368_400417</td>\n",
       "      <td>step_3</td>\n",
       "      <td>2017-03-15 00:03:03</td>\n",
       "    </tr>\n",
       "    <tr>\n",
       "      <th>1</th>\n",
       "      <td>7179755</td>\n",
       "      <td>167765295_97487764427</td>\n",
       "      <td>264484508_5982901710_928530</td>\n",
       "      <td>start</td>\n",
       "      <td>2017-03-15 00:19:28</td>\n",
       "    </tr>\n",
       "    <tr>\n",
       "      <th>2</th>\n",
       "      <td>7179755</td>\n",
       "      <td>167765295_97487764427</td>\n",
       "      <td>264484508_5982901710_928530</td>\n",
       "      <td>step_1</td>\n",
       "      <td>2017-03-15 00:20:50</td>\n",
       "    </tr>\n",
       "    <tr>\n",
       "      <th>3</th>\n",
       "      <td>7179755</td>\n",
       "      <td>167765295_97487764427</td>\n",
       "      <td>264484508_5982901710_928530</td>\n",
       "      <td>step_2</td>\n",
       "      <td>2017-03-15 00:22:52</td>\n",
       "    </tr>\n",
       "    <tr>\n",
       "      <th>4</th>\n",
       "      <td>7179755</td>\n",
       "      <td>167765295_97487764427</td>\n",
       "      <td>264484508_5982901710_928530</td>\n",
       "      <td>step_3</td>\n",
       "      <td>2017-03-15 00:23:47</td>\n",
       "    </tr>\n",
       "    <tr>\n",
       "      <th>5</th>\n",
       "      <td>7179755</td>\n",
       "      <td>167765295_97487764427</td>\n",
       "      <td>264484508_5982901710_928530</td>\n",
       "      <td>confirm</td>\n",
       "      <td>2017-03-15 00:26:24</td>\n",
       "    </tr>\n",
       "    <tr>\n",
       "      <th>6</th>\n",
       "      <td>4192640</td>\n",
       "      <td>692067844_75217592829</td>\n",
       "      <td>706721307_85347845958_18583</td>\n",
       "      <td>start</td>\n",
       "      <td>2017-03-15 00:43:23</td>\n",
       "    </tr>\n",
       "    <tr>\n",
       "      <th>7</th>\n",
       "      <td>4192640</td>\n",
       "      <td>692067844_75217592829</td>\n",
       "      <td>706721307_85347845958_18583</td>\n",
       "      <td>step_1</td>\n",
       "      <td>2017-03-15 00:43:32</td>\n",
       "    </tr>\n",
       "    <tr>\n",
       "      <th>8</th>\n",
       "      <td>4192640</td>\n",
       "      <td>692067844_75217592829</td>\n",
       "      <td>706721307_85347845958_18583</td>\n",
       "      <td>step_2</td>\n",
       "      <td>2017-03-15 00:43:48</td>\n",
       "    </tr>\n",
       "    <tr>\n",
       "      <th>9</th>\n",
       "      <td>4192640</td>\n",
       "      <td>692067844_75217592829</td>\n",
       "      <td>706721307_85347845958_18583</td>\n",
       "      <td>step_1</td>\n",
       "      <td>2017-03-15 00:44:36</td>\n",
       "    </tr>\n",
       "  </tbody>\n",
       "</table>\n",
       "</div>"
      ],
      "text/plain": [
       "   client_id             visitor_id                      visit_id  \\\n",
       "0    9088444  242404224_96732670250  423038079_46067236368_400417   \n",
       "1    7179755  167765295_97487764427   264484508_5982901710_928530   \n",
       "2    7179755  167765295_97487764427   264484508_5982901710_928530   \n",
       "3    7179755  167765295_97487764427   264484508_5982901710_928530   \n",
       "4    7179755  167765295_97487764427   264484508_5982901710_928530   \n",
       "5    7179755  167765295_97487764427   264484508_5982901710_928530   \n",
       "6    4192640  692067844_75217592829   706721307_85347845958_18583   \n",
       "7    4192640  692067844_75217592829   706721307_85347845958_18583   \n",
       "8    4192640  692067844_75217592829   706721307_85347845958_18583   \n",
       "9    4192640  692067844_75217592829   706721307_85347845958_18583   \n",
       "\n",
       "  process_step            date_time  \n",
       "0       step_3  2017-03-15 00:03:03  \n",
       "1        start  2017-03-15 00:19:28  \n",
       "2       step_1  2017-03-15 00:20:50  \n",
       "3       step_2  2017-03-15 00:22:52  \n",
       "4       step_3  2017-03-15 00:23:47  \n",
       "5      confirm  2017-03-15 00:26:24  \n",
       "6        start  2017-03-15 00:43:23  \n",
       "7       step_1  2017-03-15 00:43:32  \n",
       "8       step_2  2017-03-15 00:43:48  \n",
       "9       step_1  2017-03-15 00:44:36  "
      ]
     },
     "execution_count": 9,
     "metadata": {},
     "output_type": "execute_result"
    }
   ],
   "source": [
    "df_concat.head(10)"
   ]
  },
  {
   "cell_type": "code",
   "execution_count": 10,
   "metadata": {},
   "outputs": [
    {
     "data": {
      "text/html": [
       "<div>\n",
       "<style scoped>\n",
       "    .dataframe tbody tr th:only-of-type {\n",
       "        vertical-align: middle;\n",
       "    }\n",
       "\n",
       "    .dataframe tbody tr th {\n",
       "        vertical-align: top;\n",
       "    }\n",
       "\n",
       "    .dataframe thead th {\n",
       "        text-align: right;\n",
       "    }\n",
       "</style>\n",
       "<table border=\"1\" class=\"dataframe\">\n",
       "  <thead>\n",
       "    <tr style=\"text-align: right;\">\n",
       "      <th></th>\n",
       "      <th>client_id</th>\n",
       "      <th>years_as_client</th>\n",
       "      <th>months_as_client</th>\n",
       "      <th>age</th>\n",
       "      <th>gender</th>\n",
       "      <th>number_of_accounts</th>\n",
       "      <th>total_balance</th>\n",
       "      <th>calls_in_the_last_6_months</th>\n",
       "      <th>frequency_of_logons_6_months</th>\n",
       "    </tr>\n",
       "  </thead>\n",
       "  <tbody>\n",
       "    <tr>\n",
       "      <th>0</th>\n",
       "      <td>836976</td>\n",
       "      <td>6.0</td>\n",
       "      <td>73.0</td>\n",
       "      <td>60.5</td>\n",
       "      <td>U</td>\n",
       "      <td>2.0</td>\n",
       "      <td>45105.30</td>\n",
       "      <td>6.0</td>\n",
       "      <td>9.0</td>\n",
       "    </tr>\n",
       "    <tr>\n",
       "      <th>1</th>\n",
       "      <td>2304905</td>\n",
       "      <td>7.0</td>\n",
       "      <td>94.0</td>\n",
       "      <td>58.0</td>\n",
       "      <td>U</td>\n",
       "      <td>2.0</td>\n",
       "      <td>110860.30</td>\n",
       "      <td>6.0</td>\n",
       "      <td>9.0</td>\n",
       "    </tr>\n",
       "    <tr>\n",
       "      <th>2</th>\n",
       "      <td>1439522</td>\n",
       "      <td>5.0</td>\n",
       "      <td>64.0</td>\n",
       "      <td>32.0</td>\n",
       "      <td>U</td>\n",
       "      <td>2.0</td>\n",
       "      <td>52467.79</td>\n",
       "      <td>6.0</td>\n",
       "      <td>9.0</td>\n",
       "    </tr>\n",
       "    <tr>\n",
       "      <th>3</th>\n",
       "      <td>1562045</td>\n",
       "      <td>16.0</td>\n",
       "      <td>198.0</td>\n",
       "      <td>49.0</td>\n",
       "      <td>M</td>\n",
       "      <td>2.0</td>\n",
       "      <td>67454.65</td>\n",
       "      <td>3.0</td>\n",
       "      <td>6.0</td>\n",
       "    </tr>\n",
       "    <tr>\n",
       "      <th>4</th>\n",
       "      <td>5126305</td>\n",
       "      <td>12.0</td>\n",
       "      <td>145.0</td>\n",
       "      <td>33.0</td>\n",
       "      <td>F</td>\n",
       "      <td>2.0</td>\n",
       "      <td>103671.75</td>\n",
       "      <td>0.0</td>\n",
       "      <td>3.0</td>\n",
       "    </tr>\n",
       "  </tbody>\n",
       "</table>\n",
       "</div>"
      ],
      "text/plain": [
       "   client_id  years_as_client  months_as_client   age gender  \\\n",
       "0     836976              6.0              73.0  60.5      U   \n",
       "1    2304905              7.0              94.0  58.0      U   \n",
       "2    1439522              5.0              64.0  32.0      U   \n",
       "3    1562045             16.0             198.0  49.0      M   \n",
       "4    5126305             12.0             145.0  33.0      F   \n",
       "\n",
       "   number_of_accounts  total_balance  calls_in_the_last_6_months  \\\n",
       "0                 2.0       45105.30                         6.0   \n",
       "1                 2.0      110860.30                         6.0   \n",
       "2                 2.0       52467.79                         6.0   \n",
       "3                 2.0       67454.65                         3.0   \n",
       "4                 2.0      103671.75                         0.0   \n",
       "\n",
       "   frequency_of_logons_6_months  \n",
       "0                           9.0  \n",
       "1                           9.0  \n",
       "2                           9.0  \n",
       "3                           6.0  \n",
       "4                           3.0  "
      ]
     },
     "execution_count": 10,
     "metadata": {},
     "output_type": "execute_result"
    }
   ],
   "source": [
    "df_demo.head()"
   ]
  },
  {
   "cell_type": "code",
   "execution_count": 11,
   "metadata": {},
   "outputs": [
    {
     "data": {
      "text/html": [
       "<div>\n",
       "<style scoped>\n",
       "    .dataframe tbody tr th:only-of-type {\n",
       "        vertical-align: middle;\n",
       "    }\n",
       "\n",
       "    .dataframe tbody tr th {\n",
       "        vertical-align: top;\n",
       "    }\n",
       "\n",
       "    .dataframe thead th {\n",
       "        text-align: right;\n",
       "    }\n",
       "</style>\n",
       "<table border=\"1\" class=\"dataframe\">\n",
       "  <thead>\n",
       "    <tr style=\"text-align: right;\">\n",
       "      <th></th>\n",
       "      <th>client_id</th>\n",
       "      <th>Variation</th>\n",
       "    </tr>\n",
       "  </thead>\n",
       "  <tbody>\n",
       "    <tr>\n",
       "      <th>0</th>\n",
       "      <td>9988021</td>\n",
       "      <td>Test</td>\n",
       "    </tr>\n",
       "    <tr>\n",
       "      <th>1</th>\n",
       "      <td>8320017</td>\n",
       "      <td>Test</td>\n",
       "    </tr>\n",
       "    <tr>\n",
       "      <th>2</th>\n",
       "      <td>4033851</td>\n",
       "      <td>Control</td>\n",
       "    </tr>\n",
       "    <tr>\n",
       "      <th>3</th>\n",
       "      <td>1982004</td>\n",
       "      <td>Test</td>\n",
       "    </tr>\n",
       "    <tr>\n",
       "      <th>4</th>\n",
       "      <td>9294070</td>\n",
       "      <td>Control</td>\n",
       "    </tr>\n",
       "  </tbody>\n",
       "</table>\n",
       "</div>"
      ],
      "text/plain": [
       "   client_id Variation\n",
       "0    9988021      Test\n",
       "1    8320017      Test\n",
       "2    4033851   Control\n",
       "3    1982004      Test\n",
       "4    9294070   Control"
      ]
     },
     "execution_count": 11,
     "metadata": {},
     "output_type": "execute_result"
    }
   ],
   "source": [
    "df_test_control.head()"
   ]
  },
  {
   "cell_type": "markdown",
   "metadata": {},
   "source": [
    "# Merging Variation and df_concat on their client_id"
   ]
  },
  {
   "cell_type": "code",
   "execution_count": 12,
   "metadata": {},
   "outputs": [],
   "source": [
    "# Step 1: Merge df_test_control with df_concat\n",
    "merged_df = pd.merge(df_concat, df_test_control, on='client_id', how='inner')"
   ]
  },
  {
   "cell_type": "code",
   "execution_count": 13,
   "metadata": {},
   "outputs": [
    {
     "data": {
      "text/html": [
       "<div>\n",
       "<style scoped>\n",
       "    .dataframe tbody tr th:only-of-type {\n",
       "        vertical-align: middle;\n",
       "    }\n",
       "\n",
       "    .dataframe tbody tr th {\n",
       "        vertical-align: top;\n",
       "    }\n",
       "\n",
       "    .dataframe thead th {\n",
       "        text-align: right;\n",
       "    }\n",
       "</style>\n",
       "<table border=\"1\" class=\"dataframe\">\n",
       "  <thead>\n",
       "    <tr style=\"text-align: right;\">\n",
       "      <th></th>\n",
       "      <th>client_id</th>\n",
       "      <th>visitor_id</th>\n",
       "      <th>visit_id</th>\n",
       "      <th>process_step</th>\n",
       "      <th>date_time</th>\n",
       "      <th>Variation</th>\n",
       "    </tr>\n",
       "  </thead>\n",
       "  <tbody>\n",
       "    <tr>\n",
       "      <th>0</th>\n",
       "      <td>7179755</td>\n",
       "      <td>167765295_97487764427</td>\n",
       "      <td>264484508_5982901710_928530</td>\n",
       "      <td>start</td>\n",
       "      <td>2017-03-15 00:19:28</td>\n",
       "      <td>Control</td>\n",
       "    </tr>\n",
       "    <tr>\n",
       "      <th>1</th>\n",
       "      <td>7179755</td>\n",
       "      <td>167765295_97487764427</td>\n",
       "      <td>264484508_5982901710_928530</td>\n",
       "      <td>step_1</td>\n",
       "      <td>2017-03-15 00:20:50</td>\n",
       "      <td>Control</td>\n",
       "    </tr>\n",
       "    <tr>\n",
       "      <th>2</th>\n",
       "      <td>7179755</td>\n",
       "      <td>167765295_97487764427</td>\n",
       "      <td>264484508_5982901710_928530</td>\n",
       "      <td>step_2</td>\n",
       "      <td>2017-03-15 00:22:52</td>\n",
       "      <td>Control</td>\n",
       "    </tr>\n",
       "    <tr>\n",
       "      <th>3</th>\n",
       "      <td>7179755</td>\n",
       "      <td>167765295_97487764427</td>\n",
       "      <td>264484508_5982901710_928530</td>\n",
       "      <td>step_3</td>\n",
       "      <td>2017-03-15 00:23:47</td>\n",
       "      <td>Control</td>\n",
       "    </tr>\n",
       "    <tr>\n",
       "      <th>4</th>\n",
       "      <td>7179755</td>\n",
       "      <td>167765295_97487764427</td>\n",
       "      <td>264484508_5982901710_928530</td>\n",
       "      <td>confirm</td>\n",
       "      <td>2017-03-15 00:26:24</td>\n",
       "      <td>Control</td>\n",
       "    </tr>\n",
       "    <tr>\n",
       "      <th>...</th>\n",
       "      <td>...</td>\n",
       "      <td>...</td>\n",
       "      <td>...</td>\n",
       "      <td>...</td>\n",
       "      <td>...</td>\n",
       "      <td>...</td>\n",
       "    </tr>\n",
       "    <tr>\n",
       "      <th>321190</th>\n",
       "      <td>291330</td>\n",
       "      <td>992344309_24884468623</td>\n",
       "      <td>91879336_25502670457_529422</td>\n",
       "      <td>step_1</td>\n",
       "      <td>2017-06-20 23:21:41</td>\n",
       "      <td>Control</td>\n",
       "    </tr>\n",
       "    <tr>\n",
       "      <th>321191</th>\n",
       "      <td>1558312</td>\n",
       "      <td>397562195_28573798537</td>\n",
       "      <td>175513303_32086468382_224926</td>\n",
       "      <td>confirm</td>\n",
       "      <td>2017-06-20 23:26:00</td>\n",
       "      <td>Control</td>\n",
       "    </tr>\n",
       "    <tr>\n",
       "      <th>321192</th>\n",
       "      <td>6187864</td>\n",
       "      <td>113539532_90731779729</td>\n",
       "      <td>77393632_6804608909_354572</td>\n",
       "      <td>start</td>\n",
       "      <td>2017-06-20 23:56:17</td>\n",
       "      <td>Control</td>\n",
       "    </tr>\n",
       "    <tr>\n",
       "      <th>321193</th>\n",
       "      <td>6187864</td>\n",
       "      <td>113539532_90731779729</td>\n",
       "      <td>77393632_6804608909_354572</td>\n",
       "      <td>step_1</td>\n",
       "      <td>2017-06-20 23:56:30</td>\n",
       "      <td>Control</td>\n",
       "    </tr>\n",
       "    <tr>\n",
       "      <th>321194</th>\n",
       "      <td>6187864</td>\n",
       "      <td>113539532_90731779729</td>\n",
       "      <td>77393632_6804608909_354572</td>\n",
       "      <td>step_2</td>\n",
       "      <td>2017-06-20 23:57:06</td>\n",
       "      <td>Control</td>\n",
       "    </tr>\n",
       "  </tbody>\n",
       "</table>\n",
       "<p>321195 rows × 6 columns</p>\n",
       "</div>"
      ],
      "text/plain": [
       "        client_id             visitor_id                      visit_id  \\\n",
       "0         7179755  167765295_97487764427   264484508_5982901710_928530   \n",
       "1         7179755  167765295_97487764427   264484508_5982901710_928530   \n",
       "2         7179755  167765295_97487764427   264484508_5982901710_928530   \n",
       "3         7179755  167765295_97487764427   264484508_5982901710_928530   \n",
       "4         7179755  167765295_97487764427   264484508_5982901710_928530   \n",
       "...           ...                    ...                           ...   \n",
       "321190     291330  992344309_24884468623   91879336_25502670457_529422   \n",
       "321191    1558312  397562195_28573798537  175513303_32086468382_224926   \n",
       "321192    6187864  113539532_90731779729    77393632_6804608909_354572   \n",
       "321193    6187864  113539532_90731779729    77393632_6804608909_354572   \n",
       "321194    6187864  113539532_90731779729    77393632_6804608909_354572   \n",
       "\n",
       "       process_step            date_time Variation  \n",
       "0             start  2017-03-15 00:19:28   Control  \n",
       "1            step_1  2017-03-15 00:20:50   Control  \n",
       "2            step_2  2017-03-15 00:22:52   Control  \n",
       "3            step_3  2017-03-15 00:23:47   Control  \n",
       "4           confirm  2017-03-15 00:26:24   Control  \n",
       "...             ...                  ...       ...  \n",
       "321190       step_1  2017-06-20 23:21:41   Control  \n",
       "321191      confirm  2017-06-20 23:26:00   Control  \n",
       "321192        start  2017-06-20 23:56:17   Control  \n",
       "321193       step_1  2017-06-20 23:56:30   Control  \n",
       "321194       step_2  2017-06-20 23:57:06   Control  \n",
       "\n",
       "[321195 rows x 6 columns]"
      ]
     },
     "execution_count": 13,
     "metadata": {},
     "output_type": "execute_result"
    }
   ],
   "source": [
    "merged_df"
   ]
  },
  {
   "cell_type": "markdown",
   "metadata": {},
   "source": [
    "Checking which column we should go by "
   ]
  },
  {
   "cell_type": "code",
   "execution_count": 14,
   "metadata": {},
   "outputs": [
    {
     "data": {
      "text/html": [
       "<div>\n",
       "<style scoped>\n",
       "    .dataframe tbody tr th:only-of-type {\n",
       "        vertical-align: middle;\n",
       "    }\n",
       "\n",
       "    .dataframe tbody tr th {\n",
       "        vertical-align: top;\n",
       "    }\n",
       "\n",
       "    .dataframe thead th {\n",
       "        text-align: right;\n",
       "    }\n",
       "</style>\n",
       "<table border=\"1\" class=\"dataframe\">\n",
       "  <thead>\n",
       "    <tr style=\"text-align: right;\">\n",
       "      <th></th>\n",
       "      <th>client_id</th>\n",
       "      <th>visit_id</th>\n",
       "      <th>visitor_id</th>\n",
       "      <th>Percentage_client_id</th>\n",
       "      <th>Percentage_visit_id</th>\n",
       "      <th>Percentage_visitor_id</th>\n",
       "    </tr>\n",
       "    <tr>\n",
       "      <th>Variation</th>\n",
       "      <th></th>\n",
       "      <th></th>\n",
       "      <th></th>\n",
       "      <th></th>\n",
       "      <th></th>\n",
       "      <th></th>\n",
       "    </tr>\n",
       "  </thead>\n",
       "  <tbody>\n",
       "    <tr>\n",
       "      <th>Control</th>\n",
       "      <td>23526</td>\n",
       "      <td>32181</td>\n",
       "      <td>26271</td>\n",
       "      <td>46.6</td>\n",
       "      <td>46.52</td>\n",
       "      <td>46.92</td>\n",
       "    </tr>\n",
       "    <tr>\n",
       "      <th>Test</th>\n",
       "      <td>26961</td>\n",
       "      <td>37122</td>\n",
       "      <td>29908</td>\n",
       "      <td>53.4</td>\n",
       "      <td>53.66</td>\n",
       "      <td>53.41</td>\n",
       "    </tr>\n",
       "  </tbody>\n",
       "</table>\n",
       "</div>"
      ],
      "text/plain": [
       "           client_id  visit_id  visitor_id  Percentage_client_id  \\\n",
       "Variation                                                          \n",
       "Control        23526     32181       26271                  46.6   \n",
       "Test           26961     37122       29908                  53.4   \n",
       "\n",
       "           Percentage_visit_id  Percentage_visitor_id  \n",
       "Variation                                              \n",
       "Control                  46.52                  46.92  \n",
       "Test                     53.66                  53.41  "
      ]
     },
     "execution_count": 14,
     "metadata": {},
     "output_type": "execute_result"
    }
   ],
   "source": [
    "# Group by Variation and count unique values for client_id, visit_id, and visitor_id\n",
    "grouped_control = merged_df[merged_df['Variation'] == 'Control'].groupby('Variation').agg(\n",
    "    {'client_id': 'nunique', 'visit_id': 'nunique', 'visitor_id': 'nunique'}\n",
    ")\n",
    "grouped_test = merged_df[merged_df['Variation'] == 'Test'].groupby('Variation').agg(\n",
    "    {'client_id': 'nunique', 'visit_id': 'nunique', 'visitor_id': 'nunique'}\n",
    ")\n",
    "\n",
    "# Combine the two groups\n",
    "combined = pd.concat([grouped_control, grouped_test])\n",
    "\n",
    "# Calculate percentages\n",
    "total_client_id = merged_df['client_id'].nunique()\n",
    "total_visit_id = merged_df['visit_id'].nunique()\n",
    "total_visitor_id = merged_df['visitor_id'].nunique()\n",
    "\n",
    "combined['Percentage_client_id'] = round((combined['client_id'] / total_client_id) * 100, 2)\n",
    "combined['Percentage_visit_id'] = round((combined['visit_id'] / total_visit_id) * 100, 2)\n",
    "combined['Percentage_visitor_id'] = round((combined['visitor_id'] / total_visitor_id) * 100, 2)\n",
    "\n",
    "combined\n"
   ]
  },
  {
   "cell_type": "markdown",
   "metadata": {},
   "source": [
    "After some checking and calculations... We came to the conclusion that we need to go by visit_id. since the variation is not so big percetage wise but we can tell that the ratios of error, success and time are more accurate when taking into account visit_id which should be a unique session of a client as the metadata has shown. "
   ]
  },
  {
   "cell_type": "code",
   "execution_count": 15,
   "metadata": {},
   "outputs": [
    {
     "name": "stdout",
     "output_type": "stream",
     "text": [
      "Some client_id have non-unique visitor_id:\n",
      "client_id\n",
      "1643       2\n",
      "11070      2\n",
      "11309      2\n",
      "13831      2\n",
      "16135      2\n",
      "          ..\n",
      "9992821    2\n",
      "9994407    2\n",
      "9996404    2\n",
      "9997470    2\n",
      "9999729    3\n",
      "Name: visitor_id, Length: 4798, dtype: int64\n",
      "Some client_id have non-unique visit_id:\n",
      "client_id\n",
      "1104       2\n",
      "1186       2\n",
      "1336       2\n",
      "1516       2\n",
      "1643       3\n",
      "          ..\n",
      "9995265    2\n",
      "9996404    2\n",
      "9997470    3\n",
      "9998964    2\n",
      "9999729    3\n",
      "Name: visit_id, Length: 12989, dtype: int64\n",
      "Some visitor_id are associated with multiple client_id:\n",
      "Some visit_id are associated with multiple client_id:\n"
     ]
    }
   ],
   "source": [
    "#This is to check if a visitor_id or visit_id can be shared amongst multiple client_id. Depending on the result we have to adapt our code accordingly so we don't get skewed results once we are doing an analysis.\n",
    "\n",
    "def check_unique_ids(df):\n",
    "    # Check if each client_id has unique visitor_id\n",
    "    unique_visitor_id_per_client = df.groupby('client_id')['visitor_id'].nunique()\n",
    "    if unique_visitor_id_per_client.max() > 1:\n",
    "        print(\"Some client_id have non-unique visitor_id:\")\n",
    "        print(unique_visitor_id_per_client[unique_visitor_id_per_client > 1])\n",
    "\n",
    "    # Check if each client_id has unique visit_id\n",
    "    unique_visit_id_per_client = df.groupby('client_id')['visit_id'].nunique()\n",
    "    if unique_visit_id_per_client.max() > 1:\n",
    "        print(\"Some client_id have non-unique visit_id:\")\n",
    "        print(unique_visit_id_per_client[unique_visit_id_per_client > 1])\n",
    "\n",
    "    # Check if each visitor_id or visit_id is present among multiple client_id\n",
    "    unique_client_id_per_visitor = df.groupby('visitor_id')['client_id'].nunique()\n",
    "    unique_client_id_per_visit = df.groupby('visit_id')['client_id'].nunique()\n",
    "    if unique_client_id_per_visitor.max() > 1:\n",
    "        print(\"Some visitor_id are associated with multiple client_id:\")\n",
    "        unique_client_id_per_visitor[unique_client_id_per_visitor > 1]\n",
    "    if unique_client_id_per_visit.max() > 1:\n",
    "        print(\"Some visit_id are associated with multiple client_id:\")\n",
    "        unique_client_id_per_visit[unique_client_id_per_visit > 1].value_counts\n",
    "\n",
    "# Usage example\n",
    "check_unique_ids(merged_df)\n"
   ]
  },
  {
   "cell_type": "markdown",
   "metadata": {},
   "source": [
    "In order to calculate accurately the time for each step we need to make sure the calculation are done correctly we are going to sort everything by date (to calculate time frames.), client_id that have their own visit_id (since multiple client_id can have the same visit_id)"
   ]
  },
  {
   "cell_type": "code",
   "execution_count": 16,
   "metadata": {},
   "outputs": [
    {
     "data": {
      "text/html": [
       "<div>\n",
       "<style scoped>\n",
       "    .dataframe tbody tr th:only-of-type {\n",
       "        vertical-align: middle;\n",
       "    }\n",
       "\n",
       "    .dataframe tbody tr th {\n",
       "        vertical-align: top;\n",
       "    }\n",
       "\n",
       "    .dataframe thead th {\n",
       "        text-align: right;\n",
       "    }\n",
       "</style>\n",
       "<table border=\"1\" class=\"dataframe\">\n",
       "  <thead>\n",
       "    <tr style=\"text-align: right;\">\n",
       "      <th></th>\n",
       "      <th>client_id</th>\n",
       "      <th>visitor_id</th>\n",
       "      <th>visit_id</th>\n",
       "      <th>process_step</th>\n",
       "      <th>date_time</th>\n",
       "      <th>Variation</th>\n",
       "    </tr>\n",
       "  </thead>\n",
       "  <tbody>\n",
       "    <tr>\n",
       "      <th>0</th>\n",
       "      <td>7179755</td>\n",
       "      <td>167765295_97487764427</td>\n",
       "      <td>264484508_5982901710_928530</td>\n",
       "      <td>start</td>\n",
       "      <td>2017-03-15 00:19:28</td>\n",
       "      <td>Control</td>\n",
       "    </tr>\n",
       "    <tr>\n",
       "      <th>1</th>\n",
       "      <td>7179755</td>\n",
       "      <td>167765295_97487764427</td>\n",
       "      <td>264484508_5982901710_928530</td>\n",
       "      <td>step_1</td>\n",
       "      <td>2017-03-15 00:20:50</td>\n",
       "      <td>Control</td>\n",
       "    </tr>\n",
       "    <tr>\n",
       "      <th>2</th>\n",
       "      <td>7179755</td>\n",
       "      <td>167765295_97487764427</td>\n",
       "      <td>264484508_5982901710_928530</td>\n",
       "      <td>step_2</td>\n",
       "      <td>2017-03-15 00:22:52</td>\n",
       "      <td>Control</td>\n",
       "    </tr>\n",
       "    <tr>\n",
       "      <th>3</th>\n",
       "      <td>7179755</td>\n",
       "      <td>167765295_97487764427</td>\n",
       "      <td>264484508_5982901710_928530</td>\n",
       "      <td>step_3</td>\n",
       "      <td>2017-03-15 00:23:47</td>\n",
       "      <td>Control</td>\n",
       "    </tr>\n",
       "    <tr>\n",
       "      <th>4</th>\n",
       "      <td>7179755</td>\n",
       "      <td>167765295_97487764427</td>\n",
       "      <td>264484508_5982901710_928530</td>\n",
       "      <td>confirm</td>\n",
       "      <td>2017-03-15 00:26:24</td>\n",
       "      <td>Control</td>\n",
       "    </tr>\n",
       "  </tbody>\n",
       "</table>\n",
       "</div>"
      ],
      "text/plain": [
       "   client_id             visitor_id                     visit_id process_step  \\\n",
       "0    7179755  167765295_97487764427  264484508_5982901710_928530        start   \n",
       "1    7179755  167765295_97487764427  264484508_5982901710_928530       step_1   \n",
       "2    7179755  167765295_97487764427  264484508_5982901710_928530       step_2   \n",
       "3    7179755  167765295_97487764427  264484508_5982901710_928530       step_3   \n",
       "4    7179755  167765295_97487764427  264484508_5982901710_928530      confirm   \n",
       "\n",
       "             date_time Variation  \n",
       "0  2017-03-15 00:19:28   Control  \n",
       "1  2017-03-15 00:20:50   Control  \n",
       "2  2017-03-15 00:22:52   Control  \n",
       "3  2017-03-15 00:23:47   Control  \n",
       "4  2017-03-15 00:26:24   Control  "
      ]
     },
     "execution_count": 16,
     "metadata": {},
     "output_type": "execute_result"
    }
   ],
   "source": [
    "# Sort the dataframe by 'date_time' and reset index\n",
    "merged_df_sorted = merged_df.sort_values(by=['date_time']).reset_index(drop=True)\n",
    "\n",
    "# Display the sorted and reindexed dataframe\n",
    "merged_df_sorted.head()\n"
   ]
  },
  {
   "cell_type": "code",
   "execution_count": 17,
   "metadata": {},
   "outputs": [
    {
     "data": {
      "image/png": "[encoded data removed]",
      "text/plain": [
       "<Figure size 1000x600 with 1 Axes>"
      ]
     },
     "metadata": {},
     "output_type": "display_data"
    }
   ],
   "source": [
    "# Step 2: Filter merged dataframe to include only clients present in both df_concat and df_test_control\n",
    "filtered_df = merged_df_sorted[merged_df_sorted['client_id'].isin(df_test_control['client_id'])]\n",
    "\n",
    "# Step 3: Filter the dataframe to include only clients who have completed all steps from start to confirm\n",
    "filtered_df = filtered_df[filtered_df['process_step'].isin(['start', 'step_1', 'step_2', 'step_3', 'confirm'])]\n",
    "\n",
    "# Step 4: Group by process step and variation and count the number of unique visitor IDs\n",
    "grouped_df = filtered_df.groupby(['process_step', 'Variation'])['visitor_id'].nunique().unstack()\n",
    "\n",
    "# Step 5: Calculate total number of unique visitor IDs for each process step and sort the dataframe\n",
    "grouped_df['Total'] = grouped_df.sum(axis=1)\n",
    "grouped_df = grouped_df.sort_values(by='Total', ascending=False)\n",
    "grouped_df.drop(columns='Total', inplace=True)\n",
    "\n",
    "# Step 6: Plot the results as stacked bar charts side by side\n",
    "fig, ax = plt.subplots(figsize=(10, 6))\n",
    "\n",
    "bar_width = 0.30\n",
    "index = range(len(grouped_df.index))\n",
    "\n",
    "# Plot bars for 'Control' and 'Test' side by side for each process step\n",
    "bar1 = ax.bar(index, grouped_df['Control'], bar_width, label='Control')\n",
    "bar2 = ax.bar([i + bar_width for i in index], grouped_df['Test'], bar_width, label='Test')\n",
    "\n",
    "# Set title, labels, and ticks\n",
    "ax.set_title('Number of Unique Visits by Process Step and Variation')\n",
    "ax.set_xlabel('Process Step')\n",
    "ax.set_ylabel('Number of Unique Visitors')\n",
    "ax.set_xticks([i + bar_width/2 for i in index])\n",
    "ax.set_xticklabels(grouped_df.index, rotation=45)\n",
    "ax.legend(title='Variation')\n",
    "\n",
    "plt.tight_layout()\n",
    "plt.show()\n"
   ]
  },
  {
   "cell_type": "markdown",
   "metadata": {},
   "source": [
    "Completion rate by visitor_id"
   ]
  },
  {
   "cell_type": "code",
   "execution_count": 18,
   "metadata": {},
   "outputs": [
    {
     "name": "stdout",
     "output_type": "stream",
     "text": [
      "Completion Rate per visitor_id for Control Variation: 60.07258126785576\n",
      "Completion Rate per visitor_id for Test Variation: 67.87927313235397\n"
     ]
    }
   ],
   "source": [
    "# Function to calculate completion rate for Test and Control variations\n",
    "def calculate_completion_rate_visitor_id(merged_df_sorted):\n",
    "    # Sort by visitor_id to ensure correct calculation\n",
    "    merged_df_sorted = merged_df_sorted.sort_values(by=['visitor_id'])\n",
    "    \n",
    "    # Calculate completion rate for Control variation\n",
    "    _visitor_id = merged_df_sorted[(merged_df_sorted['Variation'] == 'Control') & \n",
    "                                                    (merged_df_sorted['process_step'] == 'confirm')]['visitor_id'].nunique()\n",
    "    control_start_visits_count_visitor_id = merged_df_sorted[(merged_df_sorted['Variation'] == 'Control') & \n",
    "                                                    (merged_df_sorted['process_step'] == 'start')]['visitor_id'].nunique()\n",
    "    control_completion_rate_visitor_id = _visitor_id / control_start_visits_count_visitor_id * 100\n",
    "    \n",
    "    # Calculate completion rate for Test variation\n",
    "    test_confirm_visits_count_visitor_id = merged_df_sorted[(merged_df_sorted['Variation'] == 'Test') & \n",
    "                                                 (merged_df_sorted['process_step'] == 'confirm')]['visitor_id'].nunique()\n",
    "    test_start_visits_count_visitor_id = merged_df_sorted[(merged_df_sorted['Variation'] == 'Test') & \n",
    "                                                 (merged_df_sorted['process_step'] == 'start')]['visitor_id'].nunique()\n",
    "    test_completion_rate_visitor_id = test_confirm_visits_count_visitor_id / test_start_visits_count_visitor_id * 100\n",
    "    \n",
    "    return control_completion_rate_visitor_id, test_completion_rate_visitor_id\n",
    "\n",
    "# Example usage\n",
    "control_completion_rate_visitor_id, test_completion_rate_visitor_id = calculate_completion_rate_visitor_id(merged_df_sorted)\n",
    "print(\"Completion Rate per visitor_id for Control Variation:\", control_completion_rate_visitor_id)\n",
    "print(\"Completion Rate per visitor_id for Test Variation:\", test_completion_rate_visitor_id)\n"
   ]
  },
  {
   "cell_type": "markdown",
   "metadata": {},
   "source": [
    "Completion Rate by client_id"
   ]
  },
  {
   "cell_type": "code",
   "execution_count": 19,
   "metadata": {},
   "outputs": [
    {
     "name": "stdout",
     "output_type": "stream",
     "text": [
      "Completion Rate per client_id for Control Variation: 65.95699200547219\n",
      "Completion Rate per client_id for Test Variation: 70.04349130173965\n"
     ]
    }
   ],
   "source": [
    "# Function to calculate completion rate for Test and Control variations\n",
    "def calculate_completion_rate_client_id(merged_df_sorted):\n",
    "    # Sort by client_id to ensure correct calculation\n",
    "    merged_df_sorted = merged_df_sorted.sort_values(by=['client_id'])\n",
    "    \n",
    "    # Calculate completion rate for Control variation\n",
    "    control_confirm_visits_count_client_id = merged_df_sorted[(merged_df_sorted['Variation'] == 'Control') & \n",
    "                                                    (merged_df_sorted['process_step'] == 'confirm')]['client_id'].nunique()\n",
    "    control_start_visits_count_client_id = merged_df_sorted[(merged_df_sorted['Variation'] == 'Control') & \n",
    "                                                    (merged_df_sorted['process_step'] == 'start')]['client_id'].nunique()\n",
    "    control_completion_rate_client_id = control_confirm_visits_count_client_id / control_start_visits_count_client_id * 100\n",
    "    \n",
    "    # Calculate completion rate for Test variation\n",
    "    test_confirm_visits_count_client_id = merged_df_sorted[(merged_df_sorted['Variation'] == 'Test') & \n",
    "                                                 (merged_df_sorted['process_step'] == 'confirm')]['client_id'].nunique()\n",
    "    test_start_visits_count_client_id = merged_df_sorted[(merged_df_sorted['Variation'] == 'Test') & \n",
    "                                                 (merged_df_sorted['process_step'] == 'start')]['client_id'].nunique()\n",
    "    test_completion_rate_client_id = test_confirm_visits_count_client_id / test_start_visits_count_client_id * 100\n",
    "    \n",
    "    return control_completion_rate_client_id, test_completion_rate_client_id\n",
    "\n",
    "# Example usage\n",
    "control_completion_rate_client_id, test_completion_rate_client_id = calculate_completion_rate_client_id(merged_df_sorted)\n",
    "print(\"Completion Rate per client_id for Control Variation:\", control_completion_rate_client_id)\n",
    "print(\"Completion Rate per client_id for Test Variation:\", test_completion_rate_client_id)\n"
   ]
  },
  {
   "cell_type": "markdown",
   "metadata": {},
   "source": [
    "Completion Rate by Visit_id"
   ]
  },
  {
   "cell_type": "code",
   "execution_count": 20,
   "metadata": {},
   "outputs": [
    {
     "name": "stdout",
     "output_type": "stream",
     "text": [
      "Completion Rate for Control Variation: 51.901109924602785\n",
      "Completion Rate for Test Variation: 65.54730871349264\n"
     ]
    }
   ],
   "source": [
    "# Function to calculate completion rate for Test and Control variations\n",
    "def calculate_completion_rate_visit_id(merged_df_sorted):\n",
    "    # Sort by visit_id to ensure correct calculation\n",
    "    merged_df_sorted = merged_df_sorted.sort_values(by=['client_id','visit_id'])\n",
    "    \n",
    "    # Calculate completion rate for Control variation\n",
    "    control_confirm_visits_count_visit_id = merged_df_sorted[(merged_df_sorted['Variation'] == 'Control') & \n",
    "                                                    (merged_df_sorted['process_step'] == 'confirm')]['visit_id'].nunique()\n",
    "    _visit_id = merged_df_sorted[(merged_df_sorted['Variation'] == 'Control') & \n",
    "                                                    (merged_df_sorted['process_step'] == 'start')]['visit_id'].nunique()\n",
    "    control_completion_rate_visit_id = control_confirm_visits_count_visit_id / _visit_id * 100\n",
    "    \n",
    "    # Calculate completion rate for Test variation\n",
    "    test_confirm_visits_count_visit_id = merged_df_sorted[(merged_df_sorted['Variation'] == 'Test') & \n",
    "                                                 (merged_df_sorted['process_step'] == 'confirm')]['visit_id'].nunique()\n",
    "    test_start_visits_count_visit_id = merged_df_sorted[(merged_df_sorted['Variation'] == 'Test') & \n",
    "                                                 (merged_df_sorted['process_step'] == 'start')]['visit_id'].nunique()\n",
    "    test_completion_rate_visit_id = test_confirm_visits_count_visit_id / test_start_visits_count_visit_id * 100\n",
    "    \n",
    "    return control_completion_rate_visit_id, test_completion_rate_visit_id\n",
    "\n",
    "# Example usage\n",
    "control_completion_rate_visit_id, test_completion_rate_visit_id = calculate_completion_rate_visit_id(merged_df_sorted)\n",
    "print(\"Completion Rate for Control Variation:\", control_completion_rate_visit_id)\n",
    "print(\"Completion Rate for Test Variation:\", test_completion_rate_visit_id)\n"
   ]
  },
  {
   "cell_type": "markdown",
   "metadata": {},
   "source": [
    "Counting the time in each step! by visit_id"
   ]
  },
  {
   "cell_type": "code",
   "execution_count": 21,
   "metadata": {},
   "outputs": [
    {
     "name": "stdout",
     "output_type": "stream",
     "text": [
      "Time Spent on Each Step by Variation (in seconds):\n",
      " Variation  process_step\n",
      "Control    confirm         128.473439\n",
      "           start           153.805080\n",
      "           step_1           43.004426\n",
      "           step_2           38.592089\n",
      "           step_3           93.174803\n",
      "Test       confirm         128.890217\n",
      "           start           148.361580\n",
      "           step_1           37.703994\n",
      "           step_2           48.058169\n",
      "           step_3           96.913505\n",
      "Name: time_diff, dtype: float64\n"
     ]
    }
   ],
   "source": [
    "# Function to calculate time spent on each step for different variations\n",
    "def calculate_time_spent_on_each_step_by_variation(merged_df_sorted):\n",
    "    # Convert date_time column to datetime type\n",
    "    merged_df_sorted['date_time'] = pd.to_datetime(merged_df_sorted['date_time'])\n",
    "    \n",
    "    # Sort by date_time to ensure correct calculation of time differences\n",
    "    merged_df_sorted.sort_values(by=['visit_id', 'date_time'], inplace=True)\n",
    "    \n",
    "    # Calculate time differences between consecutive steps for each user\n",
    "    merged_df_sorted['time_diff'] = merged_df_sorted.groupby('visit_id')['date_time'].diff().dt.total_seconds()\n",
    "    \n",
    "    # Aggregate time differences for each step for Control and Test variations separately\n",
    "    time_spent_by_variation = merged_df_sorted.groupby(['Variation', 'process_step'])['time_diff'].mean()\n",
    "    \n",
    "    return time_spent_by_variation\n",
    "\n",
    "# Example usage\n",
    "time_spent_on_each_step_by_variation = calculate_time_spent_on_each_step_by_variation(merged_df_sorted)\n",
    "print(\"Time Spent on Each Step by Variation (in seconds):\\n\", time_spent_on_each_step_by_variation)\n"
   ]
  },
  {
   "cell_type": "markdown",
   "metadata": {},
   "source": [
    "Time difference between each step for customers that have reached the CONFIRM stage."
   ]
  },
  {
   "cell_type": "code",
   "execution_count": 22,
   "metadata": {},
   "outputs": [
    {
     "name": "stdout",
     "output_type": "stream",
     "text": [
      "Average Time Spent per step (in seconds) by Variation and process_step for visit_id of clients that have reached confirm:\n",
      " Variation  process_step\n",
      "Control    confirm         126.836356\n",
      "           start           196.569289\n",
      "           step_1           41.369445\n",
      "           step_2           36.578549\n",
      "           step_3           89.588151\n",
      "Test       confirm         124.584787\n",
      "           start           170.330714\n",
      "           step_1           35.006254\n",
      "           step_2           41.995070\n",
      "           step_3           91.971449\n",
      "Name: time_diff, dtype: float64\n"
     ]
    }
   ],
   "source": [
    "# Function to calculate average time spent per visit_id for each step and Variation (Control/Test)\n",
    "def calculate_average_time_spent_per_step(merged_df_sorted):\n",
    "    # Convert date_time column to datetime type\n",
    "    merged_df_sorted['date_time'] = pd.to_datetime(merged_df_sorted['date_time'])\n",
    "    \n",
    "    # Sort by date_time to ensure correct calculation of time differences\n",
    "    merged_df_sorted.sort_values(by=['visit_id', 'date_time'], inplace=True)\n",
    "    \n",
    "    # Calculate time differences between consecutive steps for each user\n",
    "    merged_df_sorted['time_diff'] = merged_df_sorted.groupby('visit_id')['date_time'].diff().dt.total_seconds()\n",
    "    \n",
    "    # Mark visits with successful completion (contains all required steps)\n",
    "    completed_visits = merged_df_sorted.groupby('visit_id').filter(lambda x: set(x['process_step']) >= set(['start', 'step_1', 'step_2', 'step_3', 'confirm']))\n",
    "    \n",
    "    # Calculate total time spent per step for each Variation\n",
    "    total_time_spent_per_step = completed_visits.groupby(['Variation', 'process_step'])['time_diff'].mean()\n",
    "    \n",
    "    return total_time_spent_per_step\n",
    "\n",
    "# Example usage\n",
    "average_time_spent_per_step = calculate_average_time_spent_per_step(merged_df_sorted)\n",
    "print(\"Average Time Spent per step (in seconds) by Variation and process_step for visit_id of clients that have reached confirm:\\n\", average_time_spent_per_step)\n"
   ]
  },
  {
   "cell_type": "markdown",
   "metadata": {},
   "source": [
    "Total average time for Control and Test "
   ]
  },
  {
   "cell_type": "code",
   "execution_count": 23,
   "metadata": {},
   "outputs": [
    {
     "name": "stdout",
     "output_type": "stream",
     "text": [
      "Average Time Spent per visit_id (in seconds) by Variation and client_id:\n",
      " Variation  client_id\n",
      "Control    1195         245.0\n",
      "           1197          95.0\n",
      "           3743         292.0\n",
      "           5354          90.0\n",
      "           6642         443.0\n",
      "                        ...  \n",
      "Test       9998773      295.0\n",
      "           9998851      165.0\n",
      "           9999009      171.0\n",
      "           9999400      119.0\n",
      "           9999729       75.0\n",
      "Name: time_diff, Length: 32683, dtype: float64\n"
     ]
    }
   ],
   "source": [
    "# Function to calculate average time spent per visit_id for each Variation and client_id\n",
    "def calculate_average_time_spent_per_visit(merged_df):\n",
    "    # Convert date_time column to datetime type\n",
    "    merged_df['date_time'] = pd.to_datetime(merged_df['date_time'])\n",
    "    \n",
    "    # Sort by date_time to ensure correct calculation of time differences\n",
    "    merged_df.sort_values(by=['visit_id', 'date_time'], inplace=True)\n",
    "    \n",
    "    # Calculate time differences between consecutive steps for each user\n",
    "    merged_df['time_diff'] = merged_df.groupby('visit_id')['date_time'].diff().dt.total_seconds()\n",
    "    \n",
    "    # Mark visits with successful completion (from start to confirm)\n",
    "    completed_visits = merged_df.groupby('visit_id').filter(lambda x: set(x['process_step']) == set(['start', 'step_1', 'step_2', 'step_3', 'confirm']))\n",
    "    \n",
    "    # Calculate total time spent per visit_id for each Variation and client_id\n",
    "    total_time_spent_per_visit = completed_visits.groupby(['Variation', 'client_id', 'visit_id'])['time_diff'].sum()\n",
    "    \n",
    "    # Calculate average time spent per visit_id for each Variation and client_id\n",
    "    average_time_spent_per_visit = total_time_spent_per_visit.groupby(['Variation', 'client_id']).mean()\n",
    "    \n",
    "    return average_time_spent_per_visit\n",
    "\n",
    "# Example usage\n",
    "average_time_spent_per_visit = calculate_average_time_spent_per_visit(merged_df)\n",
    "print(\"Average Time Spent per visit_id (in seconds) by Variation and client_id:\\n\", average_time_spent_per_visit)\n"
   ]
  },
  {
   "cell_type": "code",
   "execution_count": 24,
   "metadata": {},
   "outputs": [
    {
     "name": "stdout",
     "output_type": "stream",
     "text": [
      "Total Average Time for Test (in seconds): 420.16950386381455\n",
      "Total Average Time for Control (in seconds): 413.3314446318156\n"
     ]
    }
   ],
   "source": [
    "# Calculate total average time for Test and Control\n",
    "total_average_time_test = average_time_spent_per_visit.loc['Test'].mean()\n",
    "total_average_time_control = average_time_spent_per_visit.loc['Control'].mean()\n",
    "\n",
    "print(\"Total Average Time for Test (in seconds):\", total_average_time_test)\n",
    "print(\"Total Average Time for Control (in seconds):\", total_average_time_control)\n"
   ]
  },
  {
   "cell_type": "markdown",
   "metadata": {},
   "source": [
    "Total average time for Control and Test removing outliers"
   ]
  },
  {
   "cell_type": "code",
   "execution_count": 25,
   "metadata": {},
   "outputs": [
    {
     "name": "stdout",
     "output_type": "stream",
     "text": [
      "Total Average Time for Test (without outliers, in seconds): 292.7642238998343\n",
      "Total Average Time for Control (without outliers, in seconds): 313.9793149847095\n"
     ]
    }
   ],
   "source": [
    "# Function to remove outliers using IQR method\n",
    "def remove_outliers(data):\n",
    "    Q1 = np.percentile(data, 25)\n",
    "    Q3 = np.percentile(data, 75)\n",
    "    IQR = Q3 - Q1\n",
    "    lower_bound = Q1 - 1.5 * IQR\n",
    "    upper_bound = Q3 + 1.5 * IQR\n",
    "    return data[(data >= lower_bound) & (data <= upper_bound)]\n",
    "\n",
    "# Remove outliers from Test data\n",
    "test_data = average_time_spent_per_visit.loc['Test']\n",
    "test_data_no_outliers = remove_outliers(test_data)\n",
    "\n",
    "# Remove outliers from Control data\n",
    "control_data = average_time_spent_per_visit.loc['Control']\n",
    "control_data_no_outliers = remove_outliers(control_data)\n",
    "\n",
    "# Calculate total average time for Test and Control after removing outliers\n",
    "total_average_time_test_no_outliers = test_data_no_outliers.mean()\n",
    "total_average_time_control_no_outliers = control_data_no_outliers.mean()\n",
    "\n",
    "print(\"Total Average Time for Test (without outliers, in seconds):\", total_average_time_test_no_outliers)\n",
    "print(\"Total Average Time for Control (without outliers, in seconds):\", total_average_time_control_no_outliers)\n"
   ]
  },
  {
   "cell_type": "markdown",
   "metadata": {},
   "source": [
    "Now we should calculate the error rate in each step and find out where the problem lies for most users and we are seperating Control and Test"
   ]
  },
  {
   "cell_type": "markdown",
   "metadata": {},
   "source": [
    "ERROR RATE BY STEP < Next step"
   ]
  },
  {
   "cell_type": "code",
   "execution_count": 26,
   "metadata": {},
   "outputs": [
    {
     "name": "stdout",
     "output_type": "stream",
     "text": [
      "Error Counts by Variation and Process Step:\n",
      " process_step  start  step_1  step_2  step_3\n",
      "Variation                                  \n",
      "Control        4808    2307    2363     116\n",
      "Test          10513    3414    2291      28\n",
      "\n",
      "Error Rate by Variation and Process Step:\n",
      " process_step      start     step_1     step_2    step_3  confirm\n",
      "Variation                                                       \n",
      "Control       50.114655  24.046279  24.629977  1.209089      NaN\n",
      "Test          64.711314  21.014404  14.101933  0.172350      NaN\n",
      "\n",
      "Step with the highest error rate for each Variation: Variation\n",
      "Control    start\n",
      "Test       start\n",
      "dtype: object\n",
      "\n",
      "Highest error rate percentage for each Variation:\n",
      " Variation\n",
      "Control    50.114655\n",
      "Test       64.711314\n",
      "dtype: float64\n"
     ]
    }
   ],
   "source": [
    "def calculate_error_rate(merged_df_sorted):\n",
    "    # Convert date_time column to datetime type\n",
    "    merged_df_sorted['date_time'] = pd.to_datetime(merged_df_sorted['date_time'])\n",
    "    \n",
    "    # Sort by date_time to ensure correct calculation of time differences\n",
    "    merged_df_sorted.sort_values(by=['visit_id', 'date_time'], inplace=True)\n",
    "    \n",
    "    # Map each process step to a numerical value\n",
    "    step_mapping = {'start': 0, 'step_1': 1, 'step_2': 2, 'step_3': 3, 'confirm': 4}\n",
    "    \n",
    "    # Assign numerical values to each process step\n",
    "    merged_df_sorted['step_value'] = merged_df_sorted['process_step'].map(step_mapping)\n",
    "    \n",
    "    # Shift the step_value column by 1 to compare with the previous step\n",
    "    merged_df_sorted['prev_step_value'] = merged_df_sorted.groupby(['client_id', 'visit_id'])['step_value'].shift(1)\n",
    "    \n",
    "    # Identify visits where the current step is less than the previous step (excluding 'confirm')\n",
    "    error_visits = merged_df_sorted[(merged_df_sorted['step_value'] < merged_df_sorted['prev_step_value']) & (merged_df_sorted['process_step'] != 'confirm')]\n",
    "    \n",
    "    # Group by Variation and process_step and calculate counts\n",
    "    error_counts = error_visits.groupby(['Variation', 'process_step']).size().unstack(fill_value=0)\n",
    "    \n",
    "    # Calculate total counts per Variation\n",
    "    total_error_counts = error_counts.sum(axis=1)\n",
    "    \n",
    "    # Calculate error rate per process step\n",
    "    error_rate = error_counts.div(total_error_counts, axis=0) * 100\n",
    "    \n",
    "    # Sort error rate by process step order\n",
    "    error_rate = error_rate.reindex(columns=['start', 'step_1', 'step_2', 'step_3', 'confirm'])\n",
    "    \n",
    "    # Find the step with the highest error rate for each Variation\n",
    "    max_error_step = error_rate.idxmax(axis=1)\n",
    "    max_error_percentage = error_rate.max(axis=1)\n",
    "    \n",
    "    return error_counts, error_rate, max_error_step, max_error_percentage\n",
    "\n",
    "# Example usage\n",
    "error_counts, error_rate, max_error_step, max_error_percentage = calculate_error_rate(merged_df_sorted)\n",
    "print(\"Error Counts by Variation and Process Step:\\n\", error_counts)\n",
    "print(\"\\nError Rate by Variation and Process Step:\\n\", error_rate)\n",
    "print(\"\\nStep with the highest error rate for each Variation:\", max_error_step)\n",
    "print(\"\\nHighest error rate percentage for each Variation:\\n\", max_error_percentage)\n"
   ]
  },
  {
   "cell_type": "markdown",
   "metadata": {},
   "source": [
    "ERROR RATE BY STEP <= Next step"
   ]
  },
  {
   "cell_type": "code",
   "execution_count": 27,
   "metadata": {},
   "outputs": [
    {
     "name": "stdout",
     "output_type": "stream",
     "text": [
      "Error Counts by Variation and Process Step:\n",
      " process_step  start  step_1  step_2  step_3\n",
      "Variation                                  \n",
      "Control       16689    3614    3316    1149\n",
      "Test          23408    5085    2951    1028\n",
      "\n",
      "Error Rate by Variation and Process Step:\n",
      " process_step      start     step_1     step_2    step_3  confirm\n",
      "Variation                                                       \n",
      "Control       67.381298  14.591408  13.388243  4.639050      NaN\n",
      "Test          72.086721  15.659645   9.087830  3.165804      NaN\n",
      "\n",
      "Step with the highest error rate for each Variation: Variation\n",
      "Control    start\n",
      "Test       start\n",
      "dtype: object\n",
      "\n",
      "Highest error rate percentage for each Variation:\n",
      " Variation\n",
      "Control    67.381298\n",
      "Test       72.086721\n",
      "dtype: float64\n"
     ]
    }
   ],
   "source": [
    "def calculate_error_rate(merged_df_sorted):\n",
    "    # Convert date_time column to datetime type\n",
    "    merged_df_sorted['date_time'] = pd.to_datetime(merged_df_sorted['date_time'])\n",
    "    \n",
    "    # Sort by date_time to ensure correct calculation of time differences\n",
    "    merged_df_sorted.sort_values(by=['visit_id', 'date_time'], inplace=True)\n",
    "    \n",
    "    # Map each process step to a numerical value\n",
    "    step_mapping = {'start': 0, 'step_1': 1, 'step_2': 2, 'step_3': 3, 'confirm': 4}\n",
    "    \n",
    "    # Assign numerical values to each process step\n",
    "    merged_df_sorted['step_value'] = merged_df_sorted['process_step'].map(step_mapping)\n",
    "    \n",
    "    # Shift the step_value column by 1 to compare with the previous step\n",
    "    merged_df_sorted['prev_step_value'] = merged_df_sorted.groupby(['client_id','visit_id'])['step_value'].shift(1)\n",
    "    \n",
    "    # Identify visits where the current step is less than the previous step (excluding 'confirm')\n",
    "    merged_df_sorted['error_flags'] = 0  # Initialize error_flags column with 0\n",
    "    merged_df_sorted.loc[(merged_df_sorted['process_step'] != 'confirm') & (merged_df_sorted['step_value'] <= merged_df_sorted['prev_step_value']), 'error_flags'] = 1\n",
    "    \n",
    "    # Group by Variation and process_step and calculate counts\n",
    "    error_counts = merged_df_sorted[merged_df_sorted['error_flags'] == 1].groupby(['Variation', 'process_step']).size().unstack(fill_value=0)\n",
    "    \n",
    "    # Calculate total counts per Variation\n",
    "    total_error_counts = error_counts.sum(axis=1)\n",
    "    \n",
    "    # Calculate error rate per process step\n",
    "    error_rate = error_counts.div(total_error_counts, axis=0) * 100\n",
    "    \n",
    "    # Sort error rate by process step order\n",
    "    error_rate = error_rate.reindex(columns=['start', 'step_1', 'step_2', 'step_3', 'confirm'])\n",
    "    \n",
    "    # Find the step with the highest error rate for each Variation\n",
    "    max_error_step = error_rate.idxmax(axis=1)\n",
    "    max_error_percentage = error_rate.max(axis=1)\n",
    "    \n",
    "    return error_counts, error_rate, max_error_step, max_error_percentage\n",
    "\n",
    "# Example usage\n",
    "error_counts, error_rate, max_error_step, max_error_percentage = calculate_error_rate(merged_df_sorted)\n",
    "print(\"Error Counts by Variation and Process Step:\\n\", error_counts)\n",
    "print(\"\\nError Rate by Variation and Process Step:\\n\", error_rate)\n",
    "print(\"\\nStep with the highest error rate for each Variation:\", max_error_step)\n",
    "print(\"\\nHighest error rate percentage for each Variation:\\n\", max_error_percentage)\n"
   ]
  },
  {
   "cell_type": "code",
   "execution_count": 28,
   "metadata": {},
   "outputs": [
    {
     "data": {
      "text/html": [
       "<div>\n",
       "<style scoped>\n",
       "    .dataframe tbody tr th:only-of-type {\n",
       "        vertical-align: middle;\n",
       "    }\n",
       "\n",
       "    .dataframe tbody tr th {\n",
       "        vertical-align: top;\n",
       "    }\n",
       "\n",
       "    .dataframe thead th {\n",
       "        text-align: right;\n",
       "    }\n",
       "</style>\n",
       "<table border=\"1\" class=\"dataframe\">\n",
       "  <thead>\n",
       "    <tr style=\"text-align: right;\">\n",
       "      <th>process_step</th>\n",
       "      <th>start</th>\n",
       "      <th>step_1</th>\n",
       "      <th>step_2</th>\n",
       "      <th>step_3</th>\n",
       "    </tr>\n",
       "    <tr>\n",
       "      <th>Variation</th>\n",
       "      <th></th>\n",
       "      <th></th>\n",
       "      <th></th>\n",
       "      <th></th>\n",
       "    </tr>\n",
       "  </thead>\n",
       "  <tbody>\n",
       "    <tr>\n",
       "      <th>Control</th>\n",
       "      <td>16689</td>\n",
       "      <td>3614</td>\n",
       "      <td>3316</td>\n",
       "      <td>1149</td>\n",
       "    </tr>\n",
       "    <tr>\n",
       "      <th>Test</th>\n",
       "      <td>23408</td>\n",
       "      <td>5085</td>\n",
       "      <td>2951</td>\n",
       "      <td>1028</td>\n",
       "    </tr>\n",
       "  </tbody>\n",
       "</table>\n",
       "</div>"
      ],
      "text/plain": [
       "process_step  start  step_1  step_2  step_3\n",
       "Variation                                  \n",
       "Control       16689    3614    3316    1149\n",
       "Test          23408    5085    2951    1028"
      ]
     },
     "execution_count": 28,
     "metadata": {},
     "output_type": "execute_result"
    }
   ],
   "source": [
    "error_counts"
   ]
  },
  {
   "cell_type": "code",
   "execution_count": 44,
   "metadata": {},
   "outputs": [
    {
     "data": {
      "text/html": [
       "<div>\n",
       "<style scoped>\n",
       "    .dataframe tbody tr th:only-of-type {\n",
       "        vertical-align: middle;\n",
       "    }\n",
       "\n",
       "    .dataframe tbody tr th {\n",
       "        vertical-align: top;\n",
       "    }\n",
       "\n",
       "    .dataframe thead th {\n",
       "        text-align: right;\n",
       "    }\n",
       "</style>\n",
       "<table border=\"1\" class=\"dataframe\">\n",
       "  <thead>\n",
       "    <tr style=\"text-align: right;\">\n",
       "      <th></th>\n",
       "      <th>client_id</th>\n",
       "      <th>visitor_id</th>\n",
       "      <th>visit_id</th>\n",
       "      <th>process_step</th>\n",
       "      <th>date_time</th>\n",
       "      <th>Variation</th>\n",
       "      <th>time_diff</th>\n",
       "      <th>step_value</th>\n",
       "      <th>prev_step_value</th>\n",
       "      <th>error_flags</th>\n",
       "    </tr>\n",
       "  </thead>\n",
       "  <tbody>\n",
       "  </tbody>\n",
       "</table>\n",
       "</div>"
      ],
      "text/plain": [
       "Empty DataFrame\n",
       "Columns: [client_id, visitor_id, visit_id, process_step, date_time, Variation, time_diff, step_value, prev_step_value, error_flags]\n",
       "Index: []"
      ]
     },
     "execution_count": 44,
     "metadata": {},
     "output_type": "execute_result"
    }
   ],
   "source": [
    "# Filter the DataFrame for rows where the client ID is 3561384\n",
    "specific_client_instances = merged_df_sorted[merged_df_sorted['client_id'] == 355337]\n",
    "\n",
    "# Display all instances of the specific client\n",
    "specific_client_instances\n"
   ]
  },
  {
   "cell_type": "code",
   "execution_count": 45,
   "metadata": {},
   "outputs": [],
   "source": [
    "merged_df_sorted.to_csv('/Users/javi/Desktop/Ironhack/Entregas de github/Ironhack-Project-2/Raw data/df_merged_sorted.csv',index=False,encoding='latin-1')"
   ]
  },
  {
   "cell_type": "code",
   "execution_count": 32,
   "metadata": {},
   "outputs": [
    {
     "name": "stdout",
     "output_type": "stream",
     "text": [
      "Number of occurrences where 'process_step' is 'start': 68410\n"
     ]
    }
   ],
   "source": [
    "# Count occurrences where the value in the 'process_step' column is 'start'\n",
    "start_count = (merged_df_sorted['process_step'] == 'step_1').sum()\n",
    "\n",
    "print(\"Number of occurrences where 'process_step' is 'start':\", start_count)\n"
   ]
  },
  {
   "cell_type": "markdown",
   "metadata": {},
   "source": [
    "Two sample T-testing between completion rate of Control and Test by **client_id**"
   ]
  },
  {
   "cell_type": "code",
   "execution_count": 33,
   "metadata": {},
   "outputs": [
    {
     "name": "stdout",
     "output_type": "stream",
     "text": [
      "Completion Rate per client_id for Control Variation: 65.95699200547219\n",
      "Completion Rate per client_id for Test Variation: 70.04349130173965\n",
      "Reject null hypothesis: There is a significant difference in completion rates between Control and Test groups.\n",
      "\n",
      "TtestResult(statistic=-15.216995059842077, pvalue=0.004290816735430989, df=2.0)\n"
     ]
    }
   ],
   "source": [
    "def completion_rate_test(control_completion_rate_client_id, test_completion_rate_client_id, control_start_visits_count_client_id, test_start_visits_count_vistor_id, alpha=0.05):\n",
    "    # Perform two-sample proportion z-test\n",
    "    stat, p_value = st.ttest_ind([control_completion_rate_client_id, test_completion_rate_client_id],\n",
    "                                             [control_start_visits_count_client_id, test_start_visits_count_vistor_id])\n",
    "    \n",
    "    if p_value < alpha:\n",
    "        print(\"Reject null hypothesis: There is a significant difference in completion rates between Control and Test groups.\")\n",
    "    else:\n",
    "        print(\"Fail to reject null hypothesis: There is no significant difference in completion rates between Control and Test groups.\")\n",
    "\n",
    "# Example usage\n",
    "control_completion_rate_client_id, test_completion_rate_client_id = calculate_completion_rate_client_id(merged_df_sorted)\n",
    "print(\"Completion Rate per client_id for Control Variation:\", control_completion_rate_client_id)\n",
    "print(\"Completion Rate per client_id for Test Variation:\", test_completion_rate_client_id)\n",
    "\n",
    "control_start_visits_count_client_id = merged_df_sorted[(merged_df_sorted['Variation'] == 'Control') & \n",
    "                                                (merged_df_sorted['process_step'] == 'start')]['client_id'].nunique()\n",
    "test_start_visits_count_vistor_id = merged_df_sorted[(merged_df_sorted['Variation'] == 'Test') & \n",
    "                                             (merged_df_sorted['process_step'] == 'start')]['client_id'].nunique()\n",
    "\n",
    "completion_rate_test(control_completion_rate_client_id, test_completion_rate_client_id, control_start_visits_count_client_id, test_start_visits_count_vistor_id)\n",
    "print()\n",
    "print(st.ttest_ind([control_completion_rate_client_id, test_completion_rate_client_id],[control_start_visits_count_client_id, test_start_visits_count_vistor_id]))"
   ]
  },
  {
   "cell_type": "markdown",
   "metadata": {},
   "source": [
    "Adjusted 5%"
   ]
  },
  {
   "cell_type": "code",
   "execution_count": 34,
   "metadata": {},
   "outputs": [
    {
     "name": "stdout",
     "output_type": "stream",
     "text": [
      "Adjusted Completion Rate per client_id for Control Variation: 70.95699200547219\n",
      "Adjusted Completion Rate per client_id for Control Variation: 70.04349130173965\n",
      "Reject null hypothesis: There is a significant difference in completion rates between Control and Test groups.\n",
      "\n",
      "T-test result with adjusted completion rate:\n",
      "TtestResult(statistic=-15.215482347380025, pvalue=0.004291664472995462, df=2.0)\n"
     ]
    }
   ],
   "source": [
    "# Adjust completion rate for Control Variation\n",
    "adjusted_control_completion_rate_client_id = control_completion_rate_client_id + 5\n",
    "\n",
    "print(\"Adjusted Completion Rate per client_id for Control Variation:\", adjusted_control_completion_rate_client_id)\n",
    "print(\"Adjusted Completion Rate per client_id for Control Variation:\", test_completion_rate_client_id)\n",
    "# Perform the completion rate test with the adjusted completion rate\n",
    "completion_rate_test(adjusted_control_completion_rate_client_id, test_completion_rate_client_id, control_start_visits_count_client_id, test_start_visits_count_vistor_id)\n",
    "\n",
    "# Print the result of the calculation\n",
    "print()\n",
    "print(\"T-test result with adjusted completion rate:\")\n",
    "print(st.ttest_ind([adjusted_control_completion_rate_client_id, test_completion_rate_client_id],[control_start_visits_count_client_id, test_start_visits_count_vistor_id]))\n"
   ]
  },
  {
   "cell_type": "markdown",
   "metadata": {},
   "source": [
    "Two sample T-testing between completion rate of Control and Test by **visitor_id**"
   ]
  },
  {
   "cell_type": "code",
   "execution_count": 35,
   "metadata": {},
   "outputs": [
    {
     "name": "stdout",
     "output_type": "stream",
     "text": [
      "Completion Rate per visitor_id for Control Variation: 60.07258126785576\n",
      "Completion Rate per visitor_id for Test Variation: 67.87927313235397\n",
      "Reject null hypothesis: There is a significant difference in completion rates between Control and Test groups.\n",
      "\n",
      "TtestResult(statistic=-19.298810164034204, pvalue=0.0026742014660393154, df=2.0)\n"
     ]
    }
   ],
   "source": [
    "def completion_rate_test(control_completion_rate_visitor_id, test_completion_rate_visitor_id, control_start_visits_count_visitor_id, test_start_visits_count_vistor_id, alpha=0.05):\n",
    "    # Perform two-sample proportion z-test\n",
    "    stat, p_value = st.ttest_ind([control_completion_rate_visitor_id, test_completion_rate_visitor_id],\n",
    "                                             [control_start_visits_count_visitor_id, test_start_visits_count_vistor_id])\n",
    "    \n",
    "    if p_value < alpha:\n",
    "        print(\"Reject null hypothesis: There is a significant difference in completion rates between Control and Test groups.\")\n",
    "    else:\n",
    "        print(\"Fail to reject null hypothesis: There is no significant difference in completion rates between Control and Test groups.\")\n",
    "\n",
    "# Example usage\n",
    "control_completion_rate_visitor_id, test_completion_rate_visitor_id = calculate_completion_rate_visitor_id(merged_df_sorted)\n",
    "print(\"Completion Rate per visitor_id for Control Variation:\", control_completion_rate_visitor_id)\n",
    "print(\"Completion Rate per visitor_id for Test Variation:\", test_completion_rate_visitor_id)\n",
    "\n",
    "control_start_visits_count_visitor_id = merged_df_sorted[(merged_df_sorted['Variation'] == 'Control') & \n",
    "                                                (merged_df_sorted['process_step'] == 'start')]['visitor_id'].nunique()\n",
    "test_start_visits_count_vistor_id = merged_df_sorted[(merged_df_sorted['Variation'] == 'Test') & \n",
    "                                             (merged_df_sorted['process_step'] == 'start')]['visitor_id'].nunique()\n",
    "\n",
    "completion_rate_test(control_completion_rate_visitor_id, test_completion_rate_visitor_id, control_start_visits_count_visitor_id, test_start_visits_count_vistor_id)\n",
    "print()\n",
    "print(st.ttest_ind([control_completion_rate_visitor_id, test_completion_rate_visitor_id],[control_start_visits_count_visitor_id, test_start_visits_count_vistor_id]))"
   ]
  },
  {
   "cell_type": "markdown",
   "metadata": {},
   "source": [
    "Adjusted 5%"
   ]
  },
  {
   "cell_type": "code",
   "execution_count": 36,
   "metadata": {},
   "outputs": [
    {
     "name": "stdout",
     "output_type": "stream",
     "text": [
      "Adjusted Completion Rate per visitor_id for Control Variation: 65.07258126785575\n",
      "Adjusted Completion Rate per visitor_id for Control Variation: 67.87927313235397\n",
      "Reject null hypothesis: There is a significant difference in completion rates between Control and Test groups.\n",
      "\n",
      "T-test result with adjusted completion rate:\n",
      "TtestResult(statistic=-19.29710383536444, pvalue=0.002674672518779644, df=2.0)\n"
     ]
    }
   ],
   "source": [
    "# Adjust completion rate for Control Variation\n",
    "adjusted_control_completion_rate_visitor_id = control_completion_rate_visitor_id + 5\n",
    "\n",
    "print(\"Adjusted Completion Rate per visitor_id for Control Variation:\", adjusted_control_completion_rate_visitor_id)\n",
    "print(\"Adjusted Completion Rate per visitor_id for Control Variation:\", test_completion_rate_visitor_id)\n",
    "# Perform the completion rate test with the adjusted completion rate\n",
    "completion_rate_test(adjusted_control_completion_rate_visitor_id, test_completion_rate_visitor_id, control_start_visits_count_visitor_id, test_start_visits_count_vistor_id)\n",
    "\n",
    "# Print the result of the calculation\n",
    "print()\n",
    "print(\"T-test result with adjusted completion rate:\")\n",
    "print(st.ttest_ind([adjusted_control_completion_rate_visitor_id, test_completion_rate_visitor_id],[control_start_visits_count_visitor_id, test_start_visits_count_vistor_id]))\n"
   ]
  },
  {
   "cell_type": "markdown",
   "metadata": {},
   "source": [
    "Two sample T-testing between completion rate of Control and Test by **visit_id**"
   ]
  },
  {
   "cell_type": "code",
   "execution_count": 37,
   "metadata": {},
   "outputs": [
    {
     "name": "stdout",
     "output_type": "stream",
     "text": [
      "Completion Rate per visit_id for Control Variation: 51.901109924602785\n",
      "Completion Rate per visit_id for Test Variation: 65.54730871349264\n",
      "Reject null hypothesis: There is a significant difference in completion rates between Control and Test groups.\n",
      "\n",
      "TtestResult(statistic=-28.526714127879117, pvalue=0.001226582828696947, df=2.0)\n"
     ]
    }
   ],
   "source": [
    "def completion_rate_test(control_completion_rate_visit_id, test_completion_rate_visit_id, control_start_visits_count_visit_id, test_start_visits_count_vistor_id, alpha=0.05):\n",
    "    # Perform two-sample proportion z-test\n",
    "    stat, p_value = st.ttest_ind([control_completion_rate_visit_id, test_completion_rate_visit_id],\n",
    "                                             [control_start_visits_count_visit_id, test_start_visits_count_vistor_id])\n",
    "    \n",
    "    if p_value < alpha:\n",
    "        print(\"Reject null hypothesis: There is a significant difference in completion rates between Control and Test groups.\")\n",
    "    else:\n",
    "        print(\"Fail to reject null hypothesis: There is no significant difference in completion rates between Control and Test groups.\")\n",
    "\n",
    "# Example usage\n",
    "control_completion_rate_visit_id, test_completion_rate_visit_id = calculate_completion_rate_visit_id(merged_df_sorted)\n",
    "print(\"Completion Rate per visit_id for Control Variation:\", control_completion_rate_visit_id)\n",
    "print(\"Completion Rate per visit_id for Test Variation:\", test_completion_rate_visit_id)\n",
    "\n",
    "control_start_visits_count_visit_id = merged_df_sorted[(merged_df_sorted['Variation'] == 'Control') & \n",
    "                                                (merged_df_sorted['process_step'] == 'start')]['visit_id'].nunique()\n",
    "test_start_visits_count_vistor_id = merged_df_sorted[(merged_df_sorted['Variation'] == 'Test') & \n",
    "                                             (merged_df_sorted['process_step'] == 'start')]['visit_id'].nunique()\n",
    "\n",
    "completion_rate_test(control_completion_rate_visit_id, test_completion_rate_visit_id, control_start_visits_count_visit_id, test_start_visits_count_vistor_id)\n",
    "print()\n",
    "print(st.ttest_ind([control_completion_rate_visit_id, test_completion_rate_visit_id],[control_start_visits_count_visit_id, test_start_visits_count_vistor_id]))"
   ]
  },
  {
   "cell_type": "markdown",
   "metadata": {},
   "source": [
    "Adjusted for 5%"
   ]
  },
  {
   "cell_type": "code",
   "execution_count": 38,
   "metadata": {},
   "outputs": [
    {
     "name": "stdout",
     "output_type": "stream",
     "text": [
      "Adjusted Completion Rate per visit_id for Control Variation: 56.901109924602785\n",
      "Adjusted Completion Rate per visit_id for Control Variation: 65.54730871349264\n",
      "Reject null hypothesis: There is a significant difference in completion rates between Control and Test groups.\n",
      "\n",
      "T-test result with adjusted completion rate:\n",
      "TtestResult(statistic=-28.524799557612724, pvalue=0.0012267471866017458, df=2.0)\n"
     ]
    }
   ],
   "source": [
    "# Adjust completion rate for Control Variation\n",
    "adjusted_control_completion_rate_visit_id = control_completion_rate_visit_id + 5\n",
    "\n",
    "print(\"Adjusted Completion Rate per visit_id for Control Variation:\", adjusted_control_completion_rate_visit_id)\n",
    "print(\"Adjusted Completion Rate per visit_id for Control Variation:\", test_completion_rate_visit_id)\n",
    "# Perform the completion rate test with the adjusted completion rate\n",
    "completion_rate_test(adjusted_control_completion_rate_visit_id, test_completion_rate_visit_id, control_start_visits_count_visit_id, test_start_visits_count_vistor_id)\n",
    "\n",
    "# Print the result of the calculation\n",
    "print()\n",
    "print(\"T-test result with adjusted completion rate:\")\n",
    "print(st.ttest_ind([adjusted_control_completion_rate_visit_id, test_completion_rate_visit_id],[control_start_visits_count_visit_id, test_start_visits_count_vistor_id]))\n"
   ]
  },
  {
   "cell_type": "code",
   "execution_count": 39,
   "metadata": {},
   "outputs": [
    {
     "name": "stdout",
     "output_type": "stream",
     "text": [
      "<class 'pandas.core.frame.DataFrame'>\n",
      "RangeIndex: 321195 entries, 0 to 321194\n",
      "Data columns (total 10 columns):\n",
      " #   Column           Non-Null Count   Dtype  \n",
      "---  ------           --------------   -----  \n",
      " 0   client_id        321195 non-null  int64  \n",
      " 1   visitor_id       321195 non-null  object \n",
      " 2   visit_id         321195 non-null  object \n",
      " 3   process_step     321195 non-null  object \n",
      " 4   date_time        321195 non-null  object \n",
      " 5   Variation        321195 non-null  object \n",
      " 6   time_diff        252012 non-null  float64\n",
      " 7   step_value       321195 non-null  int64  \n",
      " 8   prev_step_value  251770 non-null  float64\n",
      " 9   error_flags      321195 non-null  int64  \n",
      "dtypes: float64(2), int64(3), object(5)\n",
      "memory usage: 24.5+ MB\n"
     ]
    }
   ],
   "source": [
    "url = ('/Users/javi/Desktop/Ironhack/Entregas de github/Ironhack-Project-2/Raw data/df_merged_sorted.csv')\n",
    "merged_df_sorted = pd.read_csv(url)\n",
    "merged_df_sorted.info()"
   ]
  },
  {
   "cell_type": "code",
   "execution_count": 40,
   "metadata": {},
   "outputs": [
    {
     "name": "stdout",
     "output_type": "stream",
     "text": [
      "Error Rate (Test): 9.13790097138711\n",
      "Error Rate (Control): 6.690003347093606\n"
     ]
    }
   ],
   "source": [
    "# Filter out rows where the current step is earlier than the previous step\n",
    "backward_steps = merged_df_sorted[merged_df_sorted['step_value'] < merged_df_sorted['prev_step_value']]\n",
    "\n",
    "# Group by Variation (Test or Control) and count the number of backward steps\n",
    "backward_counts = backward_steps.groupby('Variation').size()\n",
    "\n",
    "# Group by Variation and count the total number of steps taken\n",
    "total_steps = merged_df_sorted.groupby('Variation').size()\n",
    "\n",
    "# Calculate the error rates\n",
    "error_rates = backward_counts / total_steps*100\n",
    "\n",
    "# Display the error rates for Test and Control groups\n",
    "print(\"Error Rate (Test):\", error_rates['Test'])\n",
    "print(\"Error Rate (Control):\", error_rates['Control'])\n"
   ]
  },
  {
   "cell_type": "code",
   "execution_count": 41,
   "metadata": {},
   "outputs": [
    {
     "name": "stdout",
     "output_type": "stream",
     "text": [
      "<class 'pandas.core.frame.DataFrame'>\n",
      "RangeIndex: 321195 entries, 0 to 321194\n",
      "Data columns (total 10 columns):\n",
      " #   Column           Non-Null Count   Dtype  \n",
      "---  ------           --------------   -----  \n",
      " 0   client_id        321195 non-null  int64  \n",
      " 1   visitor_id       321195 non-null  object \n",
      " 2   visit_id         321195 non-null  object \n",
      " 3   process_step     321195 non-null  object \n",
      " 4   date_time        321195 non-null  object \n",
      " 5   Variation        321195 non-null  object \n",
      " 6   time_diff        252012 non-null  float64\n",
      " 7   step_value       321195 non-null  int64  \n",
      " 8   prev_step_value  251770 non-null  float64\n",
      " 9   error_flags      321195 non-null  int64  \n",
      "dtypes: float64(2), int64(3), object(5)\n",
      "memory usage: 24.5+ MB\n"
     ]
    }
   ],
   "source": [
    "merged_df_sorted.info()"
   ]
  }
 ],
 "metadata": {
  "kernelspec": {
   "display_name": "Python 3",
   "language": "python",
   "name": "python3"
  },
  "language_info": {
   "codemirror_mode": {
    "name": "ipython",
    "version": 3
   },
   "file_extension": ".py",
   "mimetype": "text/x-python",
   "name": "python",
   "nbconvert_exporter": "python",
   "pygments_lexer": "ipython3",
   "version": "3.9.6"
  }
 },
 "nbformat": 4,
 "nbformat_minor": 2
}
